{
 "cells": [
  {
   "cell_type": "markdown",
   "id": "5c6b5e96-8196-4ff8-ba21-50475bcae992",
   "metadata": {},
   "source": [
    "# 1. Import Libraries "
   ]
  },
  {
   "cell_type": "code",
   "execution_count": 61,
   "id": "2fed71cf-ddbb-4a76-844a-cd95591af346",
   "metadata": {},
   "outputs": [],
   "source": [
    "import os\n",
    "import numpy as np\n",
    "import pandas as pd\n",
    "from PIL import Image\n",
    "import matplotlib.pyplot as plt"
   ]
  },
  {
   "cell_type": "code",
   "execution_count": 62,
   "id": "89835c35-1b8b-4de0-9c42-7be55c5eca1a",
   "metadata": {},
   "outputs": [],
   "source": [
    "import os "
   ]
  },
  {
   "cell_type": "code",
   "execution_count": 63,
   "id": "38974226-87a0-4f1a-b943-4a34d29aaa6e",
   "metadata": {},
   "outputs": [
    {
     "data": {
      "text/plain": [
       "'C:\\\\Users\\\\kames\\\\OneDrive\\\\Desktop\\\\Semester - 4\\\\Machine Learning\\\\Project\\\\notebooks'"
      ]
     },
     "execution_count": 63,
     "metadata": {},
     "output_type": "execute_result"
    }
   ],
   "source": [
    "os.getcwd()"
   ]
  },
  {
   "cell_type": "code",
   "execution_count": 64,
   "id": "76740a82-8ab9-4b7e-a69a-2e4ca2067410",
   "metadata": {},
   "outputs": [
    {
     "name": "stdout",
     "output_type": "stream",
     "text": [
      "Number of training images: 3365\n",
      "Number of test images: 374\n"
     ]
    }
   ],
   "source": [
    "train_csv_path = r'..\\data\\train_test_csv\\train_data.csv'\n",
    "test_csv_path = r'..\\data\\train_test_csv\\test_data.csv'\n",
    "\n",
    "train_df = pd.read_csv(train_csv_path)\n",
    "test_df = pd.read_csv(test_csv_path)\n",
    "\n",
    "# Display the number of imported images\n",
    "print(f\"Number of training images: {len(train_df)}\")\n",
    "print(f\"Number of test images: {len(test_df)}\")"
   ]
  },
  {
   "cell_type": "code",
   "execution_count": 65,
   "id": "8aa7032c-9e1b-4e7d-b776-d507272daa0e",
   "metadata": {},
   "outputs": [
    {
     "data": {
      "text/plain": [
       "Label\n",
       "airplanes            720\n",
       "Motorbikes           718\n",
       "BACKGROUND_Google    420\n",
       "Faces_easy           392\n",
       "Faces                391\n",
       "watch                215\n",
       "Leopards             180\n",
       "bonsai               115\n",
       "car_side             111\n",
       "ketch                103\n",
       "Name: count, dtype: int64"
      ]
     },
     "execution_count": 65,
     "metadata": {},
     "output_type": "execute_result"
    }
   ],
   "source": [
    "train_df.Label.value_counts()"
   ]
  },
  {
   "cell_type": "code",
   "execution_count": 66,
   "id": "f444c33e-cc98-4003-8d74-e10a17717453",
   "metadata": {},
   "outputs": [
    {
     "data": {
      "text/plain": [
       "Label\n",
       "Motorbikes           80\n",
       "airplanes            80\n",
       "BACKGROUND_Google    47\n",
       "Faces                44\n",
       "Faces_easy           43\n",
       "watch                24\n",
       "Leopards             20\n",
       "bonsai               13\n",
       "car_side             12\n",
       "ketch                11\n",
       "Name: count, dtype: int64"
      ]
     },
     "execution_count": 66,
     "metadata": {},
     "output_type": "execute_result"
    }
   ],
   "source": [
    "test_df.Label.value_counts()"
   ]
  },
  {
   "cell_type": "code",
   "execution_count": 67,
   "id": "196e8a19-27d5-40ff-b0a9-10a561b0c1f8",
   "metadata": {},
   "outputs": [
    {
     "data": {
      "text/html": [
       "<div>\n",
       "<style scoped>\n",
       "    .dataframe tbody tr th:only-of-type {\n",
       "        vertical-align: middle;\n",
       "    }\n",
       "\n",
       "    .dataframe tbody tr th {\n",
       "        vertical-align: top;\n",
       "    }\n",
       "\n",
       "    .dataframe thead th {\n",
       "        text-align: right;\n",
       "    }\n",
       "</style>\n",
       "<table border=\"1\" class=\"dataframe\">\n",
       "  <thead>\n",
       "    <tr style=\"text-align: right;\">\n",
       "      <th></th>\n",
       "      <th>HOG_0</th>\n",
       "      <th>HOG_1</th>\n",
       "      <th>HOG_2</th>\n",
       "      <th>HOG_3</th>\n",
       "      <th>HOG_4</th>\n",
       "      <th>HOG_5</th>\n",
       "      <th>HOG_6</th>\n",
       "      <th>HOG_7</th>\n",
       "      <th>HOG_8</th>\n",
       "      <th>HOG_9</th>\n",
       "      <th>...</th>\n",
       "      <th>HOG_8091</th>\n",
       "      <th>HOG_8092</th>\n",
       "      <th>HOG_8093</th>\n",
       "      <th>HOG_8094</th>\n",
       "      <th>HOG_8095</th>\n",
       "      <th>HOG_8096</th>\n",
       "      <th>HOG_8097</th>\n",
       "      <th>HOG_8098</th>\n",
       "      <th>HOG_8099</th>\n",
       "      <th>Label</th>\n",
       "    </tr>\n",
       "  </thead>\n",
       "  <tbody>\n",
       "    <tr>\n",
       "      <th>0</th>\n",
       "      <td>0.000084</td>\n",
       "      <td>5.695531e-05</td>\n",
       "      <td>8.398800e-05</td>\n",
       "      <td>0.000107</td>\n",
       "      <td>0.000327</td>\n",
       "      <td>0.000327</td>\n",
       "      <td>0.000053</td>\n",
       "      <td>0.000070</td>\n",
       "      <td>0.000090</td>\n",
       "      <td>0.000108</td>\n",
       "      <td>...</td>\n",
       "      <td>0.000102</td>\n",
       "      <td>0.000062</td>\n",
       "      <td>3.137357e-05</td>\n",
       "      <td>7.182029e-05</td>\n",
       "      <td>0.000145</td>\n",
       "      <td>1.034424e-04</td>\n",
       "      <td>1.219835e-04</td>\n",
       "      <td>0.000059</td>\n",
       "      <td>0.000134</td>\n",
       "      <td>Faces_easy</td>\n",
       "    </tr>\n",
       "    <tr>\n",
       "      <th>1</th>\n",
       "      <td>0.000186</td>\n",
       "      <td>1.357362e-04</td>\n",
       "      <td>1.159534e-04</td>\n",
       "      <td>0.000185</td>\n",
       "      <td>0.000119</td>\n",
       "      <td>0.000049</td>\n",
       "      <td>0.000129</td>\n",
       "      <td>0.000141</td>\n",
       "      <td>0.000151</td>\n",
       "      <td>0.000212</td>\n",
       "      <td>...</td>\n",
       "      <td>0.000348</td>\n",
       "      <td>0.000296</td>\n",
       "      <td>3.011146e-06</td>\n",
       "      <td>0.000000e+00</td>\n",
       "      <td>0.000005</td>\n",
       "      <td>2.000781e-06</td>\n",
       "      <td>7.093396e-06</td>\n",
       "      <td>0.000018</td>\n",
       "      <td>0.000148</td>\n",
       "      <td>watch</td>\n",
       "    </tr>\n",
       "    <tr>\n",
       "      <th>2</th>\n",
       "      <td>0.000128</td>\n",
       "      <td>4.212162e-05</td>\n",
       "      <td>6.854870e-05</td>\n",
       "      <td>0.000106</td>\n",
       "      <td>0.000151</td>\n",
       "      <td>0.000131</td>\n",
       "      <td>0.000171</td>\n",
       "      <td>0.000094</td>\n",
       "      <td>0.000131</td>\n",
       "      <td>0.000088</td>\n",
       "      <td>...</td>\n",
       "      <td>0.000089</td>\n",
       "      <td>0.000127</td>\n",
       "      <td>1.672243e-04</td>\n",
       "      <td>9.401813e-05</td>\n",
       "      <td>0.000218</td>\n",
       "      <td>2.107743e-04</td>\n",
       "      <td>2.183743e-04</td>\n",
       "      <td>0.000214</td>\n",
       "      <td>0.000084</td>\n",
       "      <td>car_side</td>\n",
       "    </tr>\n",
       "    <tr>\n",
       "      <th>3</th>\n",
       "      <td>0.000329</td>\n",
       "      <td>5.732011e-07</td>\n",
       "      <td>2.427512e-06</td>\n",
       "      <td>0.000002</td>\n",
       "      <td>0.000005</td>\n",
       "      <td>0.000003</td>\n",
       "      <td>0.000003</td>\n",
       "      <td>0.000003</td>\n",
       "      <td>0.000329</td>\n",
       "      <td>0.000329</td>\n",
       "      <td>...</td>\n",
       "      <td>0.000302</td>\n",
       "      <td>0.000000</td>\n",
       "      <td>1.171565e-08</td>\n",
       "      <td>6.417172e-07</td>\n",
       "      <td>0.000006</td>\n",
       "      <td>6.768597e-07</td>\n",
       "      <td>5.347204e-07</td>\n",
       "      <td>0.000001</td>\n",
       "      <td>0.000319</td>\n",
       "      <td>airplanes</td>\n",
       "    </tr>\n",
       "    <tr>\n",
       "      <th>4</th>\n",
       "      <td>0.000003</td>\n",
       "      <td>1.289011e-07</td>\n",
       "      <td>3.857198e-07</td>\n",
       "      <td>0.000000</td>\n",
       "      <td>0.000003</td>\n",
       "      <td>0.000000</td>\n",
       "      <td>0.000000</td>\n",
       "      <td>0.000000</td>\n",
       "      <td>0.000003</td>\n",
       "      <td>0.000015</td>\n",
       "      <td>...</td>\n",
       "      <td>0.000021</td>\n",
       "      <td>0.000006</td>\n",
       "      <td>2.203605e-05</td>\n",
       "      <td>2.015302e-06</td>\n",
       "      <td>0.000019</td>\n",
       "      <td>3.331167e-06</td>\n",
       "      <td>1.470229e-05</td>\n",
       "      <td>0.000007</td>\n",
       "      <td>0.000022</td>\n",
       "      <td>airplanes</td>\n",
       "    </tr>\n",
       "  </tbody>\n",
       "</table>\n",
       "<p>5 rows × 8101 columns</p>\n",
       "</div>"
      ],
      "text/plain": [
       "      HOG_0         HOG_1         HOG_2     HOG_3     HOG_4     HOG_5  \\\n",
       "0  0.000084  5.695531e-05  8.398800e-05  0.000107  0.000327  0.000327   \n",
       "1  0.000186  1.357362e-04  1.159534e-04  0.000185  0.000119  0.000049   \n",
       "2  0.000128  4.212162e-05  6.854870e-05  0.000106  0.000151  0.000131   \n",
       "3  0.000329  5.732011e-07  2.427512e-06  0.000002  0.000005  0.000003   \n",
       "4  0.000003  1.289011e-07  3.857198e-07  0.000000  0.000003  0.000000   \n",
       "\n",
       "      HOG_6     HOG_7     HOG_8     HOG_9  ...  HOG_8091  HOG_8092  \\\n",
       "0  0.000053  0.000070  0.000090  0.000108  ...  0.000102  0.000062   \n",
       "1  0.000129  0.000141  0.000151  0.000212  ...  0.000348  0.000296   \n",
       "2  0.000171  0.000094  0.000131  0.000088  ...  0.000089  0.000127   \n",
       "3  0.000003  0.000003  0.000329  0.000329  ...  0.000302  0.000000   \n",
       "4  0.000000  0.000000  0.000003  0.000015  ...  0.000021  0.000006   \n",
       "\n",
       "       HOG_8093      HOG_8094  HOG_8095      HOG_8096      HOG_8097  HOG_8098  \\\n",
       "0  3.137357e-05  7.182029e-05  0.000145  1.034424e-04  1.219835e-04  0.000059   \n",
       "1  3.011146e-06  0.000000e+00  0.000005  2.000781e-06  7.093396e-06  0.000018   \n",
       "2  1.672243e-04  9.401813e-05  0.000218  2.107743e-04  2.183743e-04  0.000214   \n",
       "3  1.171565e-08  6.417172e-07  0.000006  6.768597e-07  5.347204e-07  0.000001   \n",
       "4  2.203605e-05  2.015302e-06  0.000019  3.331167e-06  1.470229e-05  0.000007   \n",
       "\n",
       "   HOG_8099       Label  \n",
       "0  0.000134  Faces_easy  \n",
       "1  0.000148       watch  \n",
       "2  0.000084    car_side  \n",
       "3  0.000319   airplanes  \n",
       "4  0.000022   airplanes  \n",
       "\n",
       "[5 rows x 8101 columns]"
      ]
     },
     "execution_count": 67,
     "metadata": {},
     "output_type": "execute_result"
    }
   ],
   "source": [
    "train_df.head()"
   ]
  },
  {
   "cell_type": "code",
   "execution_count": 78,
   "id": "759f8efd-7526-45e5-bd26-a8468d04f24c",
   "metadata": {},
   "outputs": [],
   "source": [
    "from sklearn.preprocessing import LabelEncoder\n",
    "\n",
    "label_encoder = LabelEncoder()\n",
    "train_df['Label'] = label_encoder.fit_transform(train_df['Label'])\n",
    "test_df['Label'] = label_encoder.transform(test_df['Label'])"
   ]
  },
  {
   "cell_type": "code",
   "execution_count": 73,
   "id": "06200ccb-cd87-4220-876b-8d475bd49ef3",
   "metadata": {},
   "outputs": [
    {
     "data": {
      "text/plain": [
       "0"
      ]
     },
     "execution_count": 73,
     "metadata": {},
     "output_type": "execute_result"
    }
   ],
   "source": [
    "test_df.isnull().sum().sum()"
   ]
  },
  {
   "cell_type": "markdown",
   "id": "58e98adb-4151-4bf4-9548-5867cdba2df1",
   "metadata": {},
   "source": [
    "# Creating Unlabelled Dataset "
   ]
  },
  {
   "cell_type": "code",
   "execution_count": 79,
   "id": "810bb682-3bcc-4ab5-9eb9-918b681fa3f9",
   "metadata": {},
   "outputs": [],
   "source": [
    "from sklearn.model_selection import train_test_split\n",
    "\n",
    "def partition_and_make_unlabeled(df, test_size=0.5, random_state=None):\n",
    "    labeled_df1, labeled_df2 = train_test_split(df, test_size=test_size, stratify=df['Label'], random_state=random_state)\n",
    "    unlabeled_df = labeled_df2.drop('Label', axis=1)\n",
    "    \n",
    "    return labeled_df1, labeled_df2, unlabeled_df"
   ]
  },
  {
   "cell_type": "code",
   "execution_count": 80,
   "id": "ef0bdc2b-022a-4695-a185-f4db2cd5ccd9",
   "metadata": {},
   "outputs": [],
   "source": [
    "labeled_df1, labeled_df2, unlabeled_df = partition_and_make_unlabeled(train_df, test_size=0.5, random_state=42)"
   ]
  },
  {
   "cell_type": "markdown",
   "id": "a853d819-3451-45cb-9bd6-47d0c332b615",
   "metadata": {},
   "source": [
    "# Train Model"
   ]
  },
  {
   "cell_type": "code",
   "execution_count": 82,
   "id": "f7439fb3-80f9-4db8-b906-2d7174ba145c",
   "metadata": {},
   "outputs": [],
   "source": [
    "from sklearn.model_selection import train_test_split\n",
    "import numpy as np\n",
    "from sklearn.ensemble import RandomForestClassifier"
   ]
  },
  {
   "cell_type": "code",
   "execution_count": 83,
   "id": "f6eebe61-fc39-4ecc-8887-ec0c97d4dcd9",
   "metadata": {},
   "outputs": [],
   "source": [
    "# function for training random forest \n",
    "def trainRF(X):\n",
    "    model = RandomForestClassifier(n_estimators = 10, max_depth = 3, class_weight='balanced', criterion = 'gini')\n",
    "    model.fit(X[:, :-1], X[:, -1])  # Assuming last column is the target label\n",
    "    return model"
   ]
  },
  {
   "cell_type": "code",
   "execution_count": 84,
   "id": "a80bb154-cdf7-4aee-901a-a36013fc14eb",
   "metadata": {},
   "outputs": [],
   "source": [
    "# function for getting out of bag error\n",
    "def oobe(F, X):\n",
    "    y = F.predict(X[:, :-1])\n",
    "    oobe = 1 - np.mean(y == X[:, -1])\n",
    "    return oobe"
   ]
  },
  {
   "cell_type": "code",
   "execution_count": 85,
   "id": "4c8ea92b-199f-4176-a766-b49d10417166",
   "metadata": {},
   "outputs": [],
   "source": [
    "# Define the compute_p_star function\n",
    "\n",
    "def compute_p_star(Xu, Xl):\n",
    "    # This function computes p*(k|xu) for all xu in Xu\n",
    "    # For simplicity, let's assume p*(k|xu) is random for demonstration purpose\n",
    "    num_classes = len(np.unique(Xl[:, -1]))\n",
    "    return np.random.rand(len(Xu), num_classes)"
   ]
  },
  {
   "cell_type": "code",
   "execution_count": 86,
   "id": "dc6e362e-3cb1-4a03-9046-a5abd1da4817",
   "metadata": {},
   "outputs": [],
   "source": [
    "# function to draw_random_label\n",
    "def draw_random_label(p_star):\n",
    "    # Convert p_star to a NumPy array if it's a list\n",
    "    if isinstance(p_star, list):\n",
    "        p_star = np.array(p_star)\n",
    "\n",
    "    # Draw a random label y_hat_u from p*(·|xu) distribution\n",
    "    return np.random.choice(np.arange(len(p_star)))"
   ]
  },
  {
   "cell_type": "code",
   "execution_count": 87,
   "id": "6f376e57-c32c-4d60-b90b-f0c5bd02ba30",
   "metadata": {},
   "outputs": [],
   "source": [
    "# defining a linear cooling function \n",
    "def cooling_function(T, m):\n",
    "    return T - 0.1"
   ]
  },
  {
   "cell_type": "code",
   "execution_count": 88,
   "id": "3c324d3a-a163-406e-a1b5-463afefff88b",
   "metadata": {},
   "outputs": [],
   "source": [
    "# stopping_criteria function\n",
    "def stopping_condition(emF, e0F, m, max_epochs):\n",
    "    # stop if the improvement in out-of-bag error is less than a threshold\n",
    "    if emF > e0F:\n",
    "        return True  # Stop if the out-of-bag error increases\n",
    "    if abs(emF - e0F) < 0.005:\n",
    "        return True  # Stop if the improvement is less than the threshold\n",
    "    if m >= max_epochs:\n",
    "        return True  # Stop if maximum number of epochs is reached\n",
    "    return False"
   ]
  },
  {
   "cell_type": "code",
   "execution_count": 89,
   "id": "4c1aabda-8ee2-41f2-b6ff-568750aefee0",
   "metadata": {},
   "outputs": [],
   "source": [
    "def semi_supervised_random_forests(Xl, Xu, N, T0, cooling_function, stopping_condition, max_epochs):\n",
    "    # Step 1: Train the initial Random Forest on labeled data\n",
    "    F = trainRF(Xl)\n",
    "\n",
    "    # Step 2: Compute the initial out-of-bag error\n",
    "    e0F = oobe(F, Xl)\n",
    "    emF = 0\n",
    "    # Step 3: Initialize epoch\n",
    "    m = 0\n",
    "\n",
    "    # Step 4: Repeat until stopping condition is met\n",
    "    while not stopping_condition(emF, e0F, m, max_epochs):\n",
    "        # Step 5: Get temperature for current epoch\n",
    "        Tm = cooling_function(T0, m)\n",
    "\n",
    "        # Step 6: Increment epoch\n",
    "        m += 1\n",
    "\n",
    "        # Step 7: Compute p*(k|xu) for all xu in Xu\n",
    "        p_star = compute_p_star(Xu, Xl)\n",
    "        \n",
    "        # Step 8: Train N decision trees in the forest\n",
    "        for n in range(N):\n",
    "            print(\"n: \", n, \"N : \", N)\n",
    "            # Step 9: Draw random labels for unlabeled samples\n",
    "            y_hat_u = [draw_random_label(p_star[i]) for i in range(len(p_star))]\n",
    "\n",
    "            # Step 10: Create augmented dataset\n",
    "            Xn = np.vstack((Xl, np.column_stack((Xu, y_hat_u))))\n",
    "\n",
    "            # Step 11: Re-train the tree\n",
    "            F.estimators_[n] = trainRF(Xn)\n",
    "\n",
    "        # Step 12: Compute out-of-bag error for the forest\n",
    "        emF = oobe(F, Xl)\n",
    "\n",
    "        # Step 13: Check stopping condition\n",
    "        if emF > e0F:\n",
    "            # Step 14: Reset the forest\n",
    "            F = trainRF(Xl)\n",
    "    return F"
   ]
  },
  {
   "cell_type": "code",
   "execution_count": 90,
   "id": "408a6080-2cf7-4750-b856-c2616f7890d1",
   "metadata": {},
   "outputs": [
    {
     "name": "stdout",
     "output_type": "stream",
     "text": [
      "n:  0 N :  5\n",
      "n:  1 N :  5\n",
      "n:  2 N :  5\n",
      "n:  3 N :  5\n",
      "n:  4 N :  5\n"
     ]
    },
    {
     "ename": "AttributeError",
     "evalue": "'RandomForestClassifier' object has no attribute '_support_missing_values'",
     "output_type": "error",
     "traceback": [
      "\u001b[1;31m---------------------------------------------------------------------------\u001b[0m",
      "\u001b[1;31mAttributeError\u001b[0m                            Traceback (most recent call last)",
      "Cell \u001b[1;32mIn[90], line 1\u001b[0m\n\u001b[1;32m----> 1\u001b[0m trained_forest \u001b[38;5;241m=\u001b[39m \u001b[43msemi_supervised_random_forests\u001b[49m\u001b[43m(\u001b[49m\u001b[43mlabeled_df1\u001b[49m\u001b[38;5;241;43m.\u001b[39;49m\u001b[43mvalues\u001b[49m\u001b[43m,\u001b[49m\u001b[43m \u001b[49m\u001b[43munlabeled_df\u001b[49m\u001b[38;5;241;43m.\u001b[39;49m\u001b[43mvalues\u001b[49m\u001b[43m,\u001b[49m\u001b[43m \u001b[49m\u001b[43mN\u001b[49m\u001b[38;5;241;43m=\u001b[39;49m\u001b[38;5;241;43m5\u001b[39;49m\u001b[43m,\u001b[49m\u001b[43m \u001b[49m\u001b[43mT0\u001b[49m\u001b[38;5;241;43m=\u001b[39;49m\u001b[38;5;241;43m1\u001b[39;49m\u001b[43m,\u001b[49m\u001b[43m \u001b[49m\u001b[43mcooling_function\u001b[49m\u001b[38;5;241;43m=\u001b[39;49m\u001b[43mcooling_function\u001b[49m\u001b[43m,\u001b[49m\u001b[43m \u001b[49m\u001b[43mstopping_condition\u001b[49m\u001b[38;5;241;43m=\u001b[39;49m\u001b[43mstopping_condition\u001b[49m\u001b[43m,\u001b[49m\u001b[43m \u001b[49m\u001b[43mmax_epochs\u001b[49m\u001b[38;5;241;43m=\u001b[39;49m\u001b[38;5;241;43m1000\u001b[39;49m\u001b[43m)\u001b[49m\n",
      "Cell \u001b[1;32mIn[89], line 35\u001b[0m, in \u001b[0;36msemi_supervised_random_forests\u001b[1;34m(Xl, Xu, N, T0, cooling_function, stopping_condition, max_epochs)\u001b[0m\n\u001b[0;32m     32\u001b[0m     F\u001b[38;5;241m.\u001b[39mestimators_[n] \u001b[38;5;241m=\u001b[39m trainRF(Xn)\n\u001b[0;32m     34\u001b[0m \u001b[38;5;66;03m# Step 12: Compute out-of-bag error for the forest\u001b[39;00m\n\u001b[1;32m---> 35\u001b[0m emF \u001b[38;5;241m=\u001b[39m \u001b[43moobe\u001b[49m\u001b[43m(\u001b[49m\u001b[43mF\u001b[49m\u001b[43m,\u001b[49m\u001b[43m \u001b[49m\u001b[43mXl\u001b[49m\u001b[43m)\u001b[49m\n\u001b[0;32m     37\u001b[0m \u001b[38;5;66;03m# Step 13: Check stopping condition\u001b[39;00m\n\u001b[0;32m     38\u001b[0m \u001b[38;5;28;01mif\u001b[39;00m emF \u001b[38;5;241m>\u001b[39m e0F:\n\u001b[0;32m     39\u001b[0m     \u001b[38;5;66;03m# Step 14: Reset the forest\u001b[39;00m\n",
      "Cell \u001b[1;32mIn[84], line 3\u001b[0m, in \u001b[0;36moobe\u001b[1;34m(F, X)\u001b[0m\n\u001b[0;32m      2\u001b[0m \u001b[38;5;28;01mdef\u001b[39;00m \u001b[38;5;21moobe\u001b[39m(F, X):\n\u001b[1;32m----> 3\u001b[0m     y \u001b[38;5;241m=\u001b[39m \u001b[43mF\u001b[49m\u001b[38;5;241;43m.\u001b[39;49m\u001b[43mpredict\u001b[49m\u001b[43m(\u001b[49m\u001b[43mX\u001b[49m\u001b[43m[\u001b[49m\u001b[43m:\u001b[49m\u001b[43m,\u001b[49m\u001b[43m \u001b[49m\u001b[43m:\u001b[49m\u001b[38;5;241;43m-\u001b[39;49m\u001b[38;5;241;43m1\u001b[39;49m\u001b[43m]\u001b[49m\u001b[43m)\u001b[49m\n\u001b[0;32m      4\u001b[0m     oobe \u001b[38;5;241m=\u001b[39m \u001b[38;5;241m1\u001b[39m \u001b[38;5;241m-\u001b[39m np\u001b[38;5;241m.\u001b[39mmean(y \u001b[38;5;241m==\u001b[39m X[:, \u001b[38;5;241m-\u001b[39m\u001b[38;5;241m1\u001b[39m])\n\u001b[0;32m      5\u001b[0m     \u001b[38;5;28;01mreturn\u001b[39;00m oobe\n",
      "File \u001b[1;32m~\\OneDrive\\Desktop\\Semester - 4\\Machine Learning\\Project\\ssrf\\Lib\\site-packages\\sklearn\\ensemble\\_forest.py:905\u001b[0m, in \u001b[0;36mForestClassifier.predict\u001b[1;34m(self, X)\u001b[0m\n\u001b[0;32m    884\u001b[0m \u001b[38;5;28;01mdef\u001b[39;00m \u001b[38;5;21mpredict\u001b[39m(\u001b[38;5;28mself\u001b[39m, X):\n\u001b[0;32m    885\u001b[0m \u001b[38;5;250m    \u001b[39m\u001b[38;5;124;03m\"\"\"\u001b[39;00m\n\u001b[0;32m    886\u001b[0m \u001b[38;5;124;03m    Predict class for X.\u001b[39;00m\n\u001b[0;32m    887\u001b[0m \n\u001b[1;32m   (...)\u001b[0m\n\u001b[0;32m    903\u001b[0m \u001b[38;5;124;03m        The predicted classes.\u001b[39;00m\n\u001b[0;32m    904\u001b[0m \u001b[38;5;124;03m    \"\"\"\u001b[39;00m\n\u001b[1;32m--> 905\u001b[0m     proba \u001b[38;5;241m=\u001b[39m \u001b[38;5;28;43mself\u001b[39;49m\u001b[38;5;241;43m.\u001b[39;49m\u001b[43mpredict_proba\u001b[49m\u001b[43m(\u001b[49m\u001b[43mX\u001b[49m\u001b[43m)\u001b[49m\n\u001b[0;32m    907\u001b[0m     \u001b[38;5;28;01mif\u001b[39;00m \u001b[38;5;28mself\u001b[39m\u001b[38;5;241m.\u001b[39mn_outputs_ \u001b[38;5;241m==\u001b[39m \u001b[38;5;241m1\u001b[39m:\n\u001b[0;32m    908\u001b[0m         \u001b[38;5;28;01mreturn\u001b[39;00m \u001b[38;5;28mself\u001b[39m\u001b[38;5;241m.\u001b[39mclasses_\u001b[38;5;241m.\u001b[39mtake(np\u001b[38;5;241m.\u001b[39margmax(proba, axis\u001b[38;5;241m=\u001b[39m\u001b[38;5;241m1\u001b[39m), axis\u001b[38;5;241m=\u001b[39m\u001b[38;5;241m0\u001b[39m)\n",
      "File \u001b[1;32m~\\OneDrive\\Desktop\\Semester - 4\\Machine Learning\\Project\\ssrf\\Lib\\site-packages\\sklearn\\ensemble\\_forest.py:947\u001b[0m, in \u001b[0;36mForestClassifier.predict_proba\u001b[1;34m(self, X)\u001b[0m\n\u001b[0;32m    945\u001b[0m check_is_fitted(\u001b[38;5;28mself\u001b[39m)\n\u001b[0;32m    946\u001b[0m \u001b[38;5;66;03m# Check data\u001b[39;00m\n\u001b[1;32m--> 947\u001b[0m X \u001b[38;5;241m=\u001b[39m \u001b[38;5;28;43mself\u001b[39;49m\u001b[38;5;241;43m.\u001b[39;49m\u001b[43m_validate_X_predict\u001b[49m\u001b[43m(\u001b[49m\u001b[43mX\u001b[49m\u001b[43m)\u001b[49m\n\u001b[0;32m    949\u001b[0m \u001b[38;5;66;03m# Assign chunk of trees to jobs\u001b[39;00m\n\u001b[0;32m    950\u001b[0m n_jobs, _, _ \u001b[38;5;241m=\u001b[39m _partition_estimators(\u001b[38;5;28mself\u001b[39m\u001b[38;5;241m.\u001b[39mn_estimators, \u001b[38;5;28mself\u001b[39m\u001b[38;5;241m.\u001b[39mn_jobs)\n",
      "File \u001b[1;32m~\\OneDrive\\Desktop\\Semester - 4\\Machine Learning\\Project\\ssrf\\Lib\\site-packages\\sklearn\\ensemble\\_forest.py:636\u001b[0m, in \u001b[0;36mBaseForest._validate_X_predict\u001b[1;34m(self, X)\u001b[0m\n\u001b[0;32m    633\u001b[0m \u001b[38;5;250m\u001b[39m\u001b[38;5;124;03m\"\"\"\u001b[39;00m\n\u001b[0;32m    634\u001b[0m \u001b[38;5;124;03mValidate X whenever one tries to predict, apply, predict_proba.\"\"\"\u001b[39;00m\n\u001b[0;32m    635\u001b[0m check_is_fitted(\u001b[38;5;28mself\u001b[39m)\n\u001b[1;32m--> 636\u001b[0m \u001b[38;5;28;01mif\u001b[39;00m \u001b[38;5;28;43mself\u001b[39;49m\u001b[38;5;241;43m.\u001b[39;49m\u001b[43mestimators_\u001b[49m\u001b[43m[\u001b[49m\u001b[38;5;241;43m0\u001b[39;49m\u001b[43m]\u001b[49m\u001b[38;5;241;43m.\u001b[39;49m\u001b[43m_support_missing_values\u001b[49m(X):\n\u001b[0;32m    637\u001b[0m     force_all_finite \u001b[38;5;241m=\u001b[39m \u001b[38;5;124m\"\u001b[39m\u001b[38;5;124mallow-nan\u001b[39m\u001b[38;5;124m\"\u001b[39m\n\u001b[0;32m    638\u001b[0m \u001b[38;5;28;01melse\u001b[39;00m:\n",
      "\u001b[1;31mAttributeError\u001b[0m: 'RandomForestClassifier' object has no attribute '_support_missing_values'"
     ]
    }
   ],
   "source": [
    "trained_forest = semi_supervised_random_forests(labeled_df1.values, unlabeled_df.values, N=5, T0=1, cooling_function=cooling_function, stopping_condition=stopping_condition, max_epochs=1000)"
   ]
  },
  {
   "cell_type": "code",
   "execution_count": null,
   "id": "f2a32269-313a-4f3a-9dc4-41b4a695c756",
   "metadata": {},
   "outputs": [],
   "source": [
    "y_pred = trained_forest.predict(test_df.values[:,:-1])"
   ]
  },
  {
   "cell_type": "code",
   "execution_count": null,
   "id": "9b37394b-6b00-492b-8965-72061e98c87e",
   "metadata": {},
   "outputs": [],
   "source": [
    "y_true  = test_df.values[:,-1]"
   ]
  },
  {
   "cell_type": "code",
   "execution_count": 40,
   "id": "6bb40e16-d83a-4086-b98b-b21ea838e16e",
   "metadata": {},
   "outputs": [],
   "source": [
    "y_true = y_true.astype(int)\n",
    "y_pred = y_pred.astype(int)"
   ]
  },
  {
   "cell_type": "code",
   "execution_count": 36,
   "id": "5a61a387-3b77-4db4-a897-76174486df5a",
   "metadata": {},
   "outputs": [
    {
     "data": {
      "text/plain": [
       "array([4, 8, 0, 4, 5, 7, 1, 7, 0, 2, 5, 0, 5, 7, 1, 5, 4, 1, 2, 1, 6, 5,\n",
       "       1, 4, 0, 0, 0, 4, 2, 5, 5, 4, 4, 0, 4, 2, 0, 0, 5, 3, 1, 6, 0, 5,\n",
       "       9, 1, 3, 1, 5, 4, 0, 3, 5, 6, 4, 5, 4, 4, 4, 6, 7, 1, 1, 5, 4, 1,\n",
       "       1, 4, 4, 5, 8, 2, 0, 5, 0, 5, 1, 2, 2, 0, 3, 3, 1, 6, 8, 4, 7, 9,\n",
       "       2, 7, 5, 5, 2, 5, 4, 1, 5, 1, 2, 4, 5, 6, 5, 4, 3, 0, 0, 5, 5, 1,\n",
       "       5, 5, 4, 5, 5, 9, 2, 6, 4, 4, 4, 8, 2, 1, 4, 0, 4, 0, 0, 1, 4, 4,\n",
       "       9, 2, 2, 2, 4, 0, 7, 5, 1, 9, 2, 0, 0, 5, 5, 1, 1, 4, 4, 5, 4, 5,\n",
       "       5, 9, 8, 4, 2, 0, 5, 4, 9, 4, 9, 1, 5, 1, 9, 8, 5, 5, 2, 3, 5, 5,\n",
       "       5, 5, 0, 4, 3, 5, 4, 9, 4, 7, 2, 4, 5, 2, 4, 5, 5, 9, 2, 0, 5, 2,\n",
       "       8, 4, 2, 5, 1, 1, 5, 0, 5, 0, 5, 3, 2, 2, 7, 0, 5, 9, 4, 2, 2, 2,\n",
       "       8, 4, 5, 1, 5, 4, 4, 3, 1, 1, 2, 2, 6, 9, 3, 4, 2, 5, 5, 4, 1, 4,\n",
       "       0, 7, 5, 2, 2, 2, 9, 2, 4, 5, 9, 9, 5, 4, 0, 5, 5, 4, 9, 4, 5, 4,\n",
       "       4, 2, 9, 5, 0, 5, 0, 3, 2, 4, 0, 3, 5, 0, 4, 5, 5, 1, 5, 4, 3, 0,\n",
       "       4, 1, 4, 5, 3, 0, 8, 4, 5, 4, 5, 2, 9, 0, 0, 0, 4, 0, 1, 5, 2, 1,\n",
       "       3, 0, 1, 6, 8, 5, 1, 9, 4, 1, 4, 4, 9, 3, 4, 1, 1, 0, 5, 0, 1, 4,\n",
       "       4, 4, 4, 3, 8, 4, 4, 1, 4, 0, 5, 5, 9, 4, 3, 1, 1, 2, 2, 4, 9, 7,\n",
       "       4, 4, 5, 6, 6, 0, 0, 9, 7, 1, 6, 2, 0, 5, 6, 4, 2, 4, 5, 3, 5, 4])"
      ]
     },
     "execution_count": 36,
     "metadata": {},
     "output_type": "execute_result"
    }
   ],
   "source": [
    "y_true"
   ]
  },
  {
   "cell_type": "code",
   "execution_count": 37,
   "id": "79ee8a3d-53a0-4960-99ab-bb9ace09299b",
   "metadata": {},
   "outputs": [
    {
     "name": "stdout",
     "output_type": "stream",
     "text": [
      "Precision: 0.919916221033868\n",
      "Recall: 0.7701592644943709\n"
     ]
    }
   ],
   "source": [
    "import numpy as np\n",
    "\n",
    "def precision_recall(y_true, y_pred):\n",
    "  \"\"\"Calculates precision and recall for multiclass classification.\n",
    "\n",
    "  Args:\n",
    "    y_true: A numpy array of the true labels.\n",
    "    y_pred: A numpy array of the predicted labels.\n",
    "\n",
    "  Returns:\n",
    "    A tuple of (precision, recall).\n",
    "  \"\"\"\n",
    "\n",
    "  # Calculate the confusion matrix.\n",
    "  confusion_matrix = np.zeros((y_true.max() + 1, y_true.max() + 1))\n",
    "  for i in range(len(y_true)):\n",
    "    confusion_matrix[y_true[i], y_pred[i]] += 1\n",
    "\n",
    "  # Calculate precision and recall for each class.\n",
    "  precision = []\n",
    "  recall = []\n",
    "  for i in range(y_true.max() + 1):\n",
    "    tp = confusion_matrix[i, i]\n",
    "    fp = np.sum(confusion_matrix[:, i]) - tp\n",
    "    fn = np.sum(confusion_matrix[i, :]) - tp\n",
    "    precision.append(tp / (tp + fp))\n",
    "    recall.append(tp / (tp + fn))\n",
    "\n",
    "  # Calculate the overall precision and recall.\n",
    "  precision = np.mean(precision)\n",
    "  recall = np.mean(recall)\n",
    "\n",
    "  return precision, recall\n",
    "\n",
    "precision, recall = precision_recall(y_true, y_pred)\n",
    "\n",
    "print(\"Precision:\", precision)\n",
    "print(\"Recall:\", recall)"
   ]
  },
  {
   "cell_type": "code",
   "execution_count": null,
   "id": "06a7eeda-c38e-4196-ba1e-e3b44512c43d",
   "metadata": {},
   "outputs": [],
   "source": []
  }
 ],
 "metadata": {
  "kernelspec": {
   "display_name": "ssrf",
   "language": "python",
   "name": "ssrf"
  },
  "language_info": {
   "codemirror_mode": {
    "name": "ipython",
    "version": 3
   },
   "file_extension": ".py",
   "mimetype": "text/x-python",
   "name": "python",
   "nbconvert_exporter": "python",
   "pygments_lexer": "ipython3",
   "version": "3.11.5"
  }
 },
 "nbformat": 4,
 "nbformat_minor": 5
}
