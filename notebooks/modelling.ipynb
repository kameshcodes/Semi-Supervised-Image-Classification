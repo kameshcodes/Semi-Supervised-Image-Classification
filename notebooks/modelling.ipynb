{
 "cells": [
  {
   "cell_type": "markdown",
   "id": "5c6b5e96-8196-4ff8-ba21-50475bcae992",
   "metadata": {},
   "source": [
    "# 1. Import Libraries "
   ]
  },
  {
   "cell_type": "code",
   "execution_count": 3,
   "id": "2fed71cf-ddbb-4a76-844a-cd95591af346",
   "metadata": {},
   "outputs": [],
   "source": [
    "import os\n",
    "import numpy as np\n",
    "import pandas as pd\n",
    "import seaborn as sns\n",
    "from PIL import Image\n",
    "import matplotlib.pyplot as plt\n",
    "\n",
    "import sys\n",
    "original_path = sys.path.copy()\n",
    "sys.path.append(r'..\\ssrf\\Lib\\site-packages\\scikit-learn')\n",
    "\n",
    "from sklearn.metrics import confusion_matrix\n",
    "from sklearn.ensemble import RandomForestClassifier\n",
    "from sklearn.tree import DecisionTreeClassifier\n",
    "sys.path = original_path\n",
    "\n",
    "%load_ext autoreload\n",
    "%autoreload 2"
   ]
  },
  {
   "cell_type": "code",
   "execution_count": 19,
   "id": "76740a82-8ab9-4b7e-a69a-2e4ca2067410",
   "metadata": {},
   "outputs": [
    {
     "name": "stdout",
     "output_type": "stream",
     "text": [
      "Number of training images: 2641\n",
      "Number of test images: 294\n"
     ]
    }
   ],
   "source": [
    "train_csv_path = r'..\\data\\train_test_csv\\train_data.csv'\n",
    "test_csv_path = r'..\\data\\train_test_csv\\test_data.csv'\n",
    "train_df = pd.read_csv(train_csv_path)\n",
    "test_df = pd.read_csv(test_csv_path)\n",
    "\n",
    "# Display the number of imported images\n",
    "print(f\"Number of training images: {len(train_df)}\")\n",
    "print(f\"Number of test images: {len(test_df)}\")"
   ]
  },
  {
   "cell_type": "code",
   "execution_count": 20,
   "id": "8aa7032c-9e1b-4e7d-b776-d507272daa0e",
   "metadata": {},
   "outputs": [
    {
     "data": {
      "text/plain": [
       "Label\n",
       "airplanes            720\n",
       "Motorbikes           718\n",
       "BACKGROUND_Google    420\n",
       "Faces_easy           392\n",
       "Faces                391\n",
       "Name: count, dtype: int64"
      ]
     },
     "execution_count": 20,
     "metadata": {},
     "output_type": "execute_result"
    }
   ],
   "source": [
    "train_df.Label.value_counts()"
   ]
  },
  {
   "cell_type": "code",
   "execution_count": 21,
   "id": "f444c33e-cc98-4003-8d74-e10a17717453",
   "metadata": {},
   "outputs": [
    {
     "data": {
      "text/plain": [
       "Label\n",
       "Motorbikes           80\n",
       "airplanes            80\n",
       "BACKGROUND_Google    47\n",
       "Faces                44\n",
       "Faces_easy           43\n",
       "Name: count, dtype: int64"
      ]
     },
     "execution_count": 21,
     "metadata": {},
     "output_type": "execute_result"
    }
   ],
   "source": [
    "test_df.Label.value_counts()"
   ]
  },
  {
   "cell_type": "code",
   "execution_count": 22,
   "id": "196e8a19-27d5-40ff-b0a9-10a561b0c1f8",
   "metadata": {},
   "outputs": [
    {
     "data": {
      "text/html": [
       "<div>\n",
       "<style scoped>\n",
       "    .dataframe tbody tr th:only-of-type {\n",
       "        vertical-align: middle;\n",
       "    }\n",
       "\n",
       "    .dataframe tbody tr th {\n",
       "        vertical-align: top;\n",
       "    }\n",
       "\n",
       "    .dataframe thead th {\n",
       "        text-align: right;\n",
       "    }\n",
       "</style>\n",
       "<table border=\"1\" class=\"dataframe\">\n",
       "  <thead>\n",
       "    <tr style=\"text-align: right;\">\n",
       "      <th></th>\n",
       "      <th>HOG_0</th>\n",
       "      <th>HOG_1</th>\n",
       "      <th>HOG_2</th>\n",
       "      <th>HOG_3</th>\n",
       "      <th>HOG_4</th>\n",
       "      <th>HOG_5</th>\n",
       "      <th>HOG_6</th>\n",
       "      <th>HOG_7</th>\n",
       "      <th>HOG_8</th>\n",
       "      <th>HOG_9</th>\n",
       "      <th>...</th>\n",
       "      <th>HOG_8091</th>\n",
       "      <th>HOG_8092</th>\n",
       "      <th>HOG_8093</th>\n",
       "      <th>HOG_8094</th>\n",
       "      <th>HOG_8095</th>\n",
       "      <th>HOG_8096</th>\n",
       "      <th>HOG_8097</th>\n",
       "      <th>HOG_8098</th>\n",
       "      <th>HOG_8099</th>\n",
       "      <th>Label</th>\n",
       "    </tr>\n",
       "  </thead>\n",
       "  <tbody>\n",
       "    <tr>\n",
       "      <th>0</th>\n",
       "      <td>0.027177</td>\n",
       "      <td>0.025653</td>\n",
       "      <td>0.037031</td>\n",
       "      <td>0.089839</td>\n",
       "      <td>0.168321</td>\n",
       "      <td>0.174550</td>\n",
       "      <td>0.248641</td>\n",
       "      <td>0.248641</td>\n",
       "      <td>0.171540</td>\n",
       "      <td>0.015715</td>\n",
       "      <td>...</td>\n",
       "      <td>0.030575</td>\n",
       "      <td>0.015245</td>\n",
       "      <td>0.034649</td>\n",
       "      <td>0.141972</td>\n",
       "      <td>0.307208</td>\n",
       "      <td>0.307208</td>\n",
       "      <td>0.157726</td>\n",
       "      <td>0.040761</td>\n",
       "      <td>0.040718</td>\n",
       "      <td>BACKGROUND_Google</td>\n",
       "    </tr>\n",
       "    <tr>\n",
       "      <th>1</th>\n",
       "      <td>0.235837</td>\n",
       "      <td>0.038368</td>\n",
       "      <td>0.031238</td>\n",
       "      <td>0.026915</td>\n",
       "      <td>0.073421</td>\n",
       "      <td>0.011923</td>\n",
       "      <td>0.004732</td>\n",
       "      <td>0.000100</td>\n",
       "      <td>0.184045</td>\n",
       "      <td>0.337206</td>\n",
       "      <td>...</td>\n",
       "      <td>0.117988</td>\n",
       "      <td>0.004348</td>\n",
       "      <td>0.007640</td>\n",
       "      <td>0.002928</td>\n",
       "      <td>0.005445</td>\n",
       "      <td>0.002255</td>\n",
       "      <td>0.010032</td>\n",
       "      <td>0.004228</td>\n",
       "      <td>0.122178</td>\n",
       "      <td>Motorbikes</td>\n",
       "    </tr>\n",
       "    <tr>\n",
       "      <th>2</th>\n",
       "      <td>0.140965</td>\n",
       "      <td>0.000000</td>\n",
       "      <td>0.000000</td>\n",
       "      <td>0.000000</td>\n",
       "      <td>0.001747</td>\n",
       "      <td>0.000000</td>\n",
       "      <td>0.000000</td>\n",
       "      <td>0.000000</td>\n",
       "      <td>0.141014</td>\n",
       "      <td>0.159202</td>\n",
       "      <td>...</td>\n",
       "      <td>0.364948</td>\n",
       "      <td>0.178828</td>\n",
       "      <td>0.092794</td>\n",
       "      <td>0.067782</td>\n",
       "      <td>0.066389</td>\n",
       "      <td>0.040597</td>\n",
       "      <td>0.156272</td>\n",
       "      <td>0.189141</td>\n",
       "      <td>0.364948</td>\n",
       "      <td>airplanes</td>\n",
       "    </tr>\n",
       "    <tr>\n",
       "      <th>3</th>\n",
       "      <td>0.382552</td>\n",
       "      <td>0.016438</td>\n",
       "      <td>0.007117</td>\n",
       "      <td>0.002574</td>\n",
       "      <td>0.015769</td>\n",
       "      <td>0.002730</td>\n",
       "      <td>0.017733</td>\n",
       "      <td>0.050059</td>\n",
       "      <td>0.382552</td>\n",
       "      <td>0.382552</td>\n",
       "      <td>...</td>\n",
       "      <td>0.349882</td>\n",
       "      <td>0.008987</td>\n",
       "      <td>0.003086</td>\n",
       "      <td>0.000883</td>\n",
       "      <td>0.029269</td>\n",
       "      <td>0.000000</td>\n",
       "      <td>0.008355</td>\n",
       "      <td>0.011984</td>\n",
       "      <td>0.349882</td>\n",
       "      <td>Motorbikes</td>\n",
       "    </tr>\n",
       "    <tr>\n",
       "      <th>4</th>\n",
       "      <td>0.305484</td>\n",
       "      <td>0.080676</td>\n",
       "      <td>0.015355</td>\n",
       "      <td>0.063711</td>\n",
       "      <td>0.072808</td>\n",
       "      <td>0.034462</td>\n",
       "      <td>0.012741</td>\n",
       "      <td>0.043839</td>\n",
       "      <td>0.305484</td>\n",
       "      <td>0.305484</td>\n",
       "      <td>...</td>\n",
       "      <td>0.266868</td>\n",
       "      <td>0.034736</td>\n",
       "      <td>0.031162</td>\n",
       "      <td>0.232690</td>\n",
       "      <td>0.239519</td>\n",
       "      <td>0.225903</td>\n",
       "      <td>0.266868</td>\n",
       "      <td>0.225866</td>\n",
       "      <td>0.266868</td>\n",
       "      <td>airplanes</td>\n",
       "    </tr>\n",
       "  </tbody>\n",
       "</table>\n",
       "<p>5 rows × 8101 columns</p>\n",
       "</div>"
      ],
      "text/plain": [
       "      HOG_0     HOG_1     HOG_2     HOG_3     HOG_4     HOG_5     HOG_6  \\\n",
       "0  0.027177  0.025653  0.037031  0.089839  0.168321  0.174550  0.248641   \n",
       "1  0.235837  0.038368  0.031238  0.026915  0.073421  0.011923  0.004732   \n",
       "2  0.140965  0.000000  0.000000  0.000000  0.001747  0.000000  0.000000   \n",
       "3  0.382552  0.016438  0.007117  0.002574  0.015769  0.002730  0.017733   \n",
       "4  0.305484  0.080676  0.015355  0.063711  0.072808  0.034462  0.012741   \n",
       "\n",
       "      HOG_7     HOG_8     HOG_9  ...  HOG_8091  HOG_8092  HOG_8093  HOG_8094  \\\n",
       "0  0.248641  0.171540  0.015715  ...  0.030575  0.015245  0.034649  0.141972   \n",
       "1  0.000100  0.184045  0.337206  ...  0.117988  0.004348  0.007640  0.002928   \n",
       "2  0.000000  0.141014  0.159202  ...  0.364948  0.178828  0.092794  0.067782   \n",
       "3  0.050059  0.382552  0.382552  ...  0.349882  0.008987  0.003086  0.000883   \n",
       "4  0.043839  0.305484  0.305484  ...  0.266868  0.034736  0.031162  0.232690   \n",
       "\n",
       "   HOG_8095  HOG_8096  HOG_8097  HOG_8098  HOG_8099              Label  \n",
       "0  0.307208  0.307208  0.157726  0.040761  0.040718  BACKGROUND_Google  \n",
       "1  0.005445  0.002255  0.010032  0.004228  0.122178         Motorbikes  \n",
       "2  0.066389  0.040597  0.156272  0.189141  0.364948          airplanes  \n",
       "3  0.029269  0.000000  0.008355  0.011984  0.349882         Motorbikes  \n",
       "4  0.239519  0.225903  0.266868  0.225866  0.266868          airplanes  \n",
       "\n",
       "[5 rows x 8101 columns]"
      ]
     },
     "execution_count": 22,
     "metadata": {},
     "output_type": "execute_result"
    }
   ],
   "source": [
    "train_df.head()"
   ]
  },
  {
   "cell_type": "code",
   "execution_count": 23,
   "id": "759f8efd-7526-45e5-bd26-a8468d04f24c",
   "metadata": {},
   "outputs": [],
   "source": [
    "from sklearn.preprocessing import LabelEncoder\n",
    "\n",
    "label_encoder = LabelEncoder()\n",
    "train_df['Label'] = label_encoder.fit_transform(train_df['Label'])\n",
    "test_df['Label'] = label_encoder.transform(test_df['Label'])"
   ]
  },
  {
   "cell_type": "markdown",
   "id": "58e98adb-4151-4bf4-9548-5867cdba2df1",
   "metadata": {},
   "source": [
    "# Creating Unlabelled Dataset "
   ]
  },
  {
   "cell_type": "code",
   "execution_count": 24,
   "id": "810bb682-3bcc-4ab5-9eb9-918b681fa3f9",
   "metadata": {},
   "outputs": [],
   "source": [
    "from sklearn.model_selection import train_test_split\n",
    "\n",
    "def partition_and_make_unlabeled(df, test_size=0.5, random_state=None):\n",
    "    labeled_df1, labeled_df2 = train_test_split(df, test_size=test_size, stratify=df['Label'], random_state=random_state)\n",
    "    unlabeled_df = labeled_df2.drop('Label', axis=1)\n",
    "    \n",
    "    return labeled_df1, labeled_df2, unlabeled_df"
   ]
  },
  {
   "cell_type": "code",
   "execution_count": 25,
   "id": "ef0bdc2b-022a-4695-a185-f4db2cd5ccd9",
   "metadata": {},
   "outputs": [],
   "source": [
    "labeled_df1, labeled_df2, unlabeled_df = partition_and_make_unlabeled(train_df, test_size=0.5, random_state=42)"
   ]
  },
  {
   "cell_type": "code",
   "execution_count": 26,
   "id": "38ee079b-ea09-4d13-8d8e-81a1506d2ba7",
   "metadata": {
    "scrolled": true
   },
   "outputs": [
    {
     "data": {
      "text/html": [
       "<div>\n",
       "<style scoped>\n",
       "    .dataframe tbody tr th:only-of-type {\n",
       "        vertical-align: middle;\n",
       "    }\n",
       "\n",
       "    .dataframe tbody tr th {\n",
       "        vertical-align: top;\n",
       "    }\n",
       "\n",
       "    .dataframe thead th {\n",
       "        text-align: right;\n",
       "    }\n",
       "</style>\n",
       "<table border=\"1\" class=\"dataframe\">\n",
       "  <thead>\n",
       "    <tr style=\"text-align: right;\">\n",
       "      <th></th>\n",
       "      <th>HOG_0</th>\n",
       "      <th>HOG_1</th>\n",
       "      <th>HOG_2</th>\n",
       "      <th>HOG_3</th>\n",
       "      <th>HOG_4</th>\n",
       "      <th>HOG_5</th>\n",
       "      <th>HOG_6</th>\n",
       "      <th>HOG_7</th>\n",
       "      <th>HOG_8</th>\n",
       "      <th>HOG_9</th>\n",
       "      <th>...</th>\n",
       "      <th>HOG_8090</th>\n",
       "      <th>HOG_8091</th>\n",
       "      <th>HOG_8092</th>\n",
       "      <th>HOG_8093</th>\n",
       "      <th>HOG_8094</th>\n",
       "      <th>HOG_8095</th>\n",
       "      <th>HOG_8096</th>\n",
       "      <th>HOG_8097</th>\n",
       "      <th>HOG_8098</th>\n",
       "      <th>HOG_8099</th>\n",
       "    </tr>\n",
       "  </thead>\n",
       "  <tbody>\n",
       "    <tr>\n",
       "      <th>555</th>\n",
       "      <td>0.208814</td>\n",
       "      <td>0.162883</td>\n",
       "      <td>0.069686</td>\n",
       "      <td>0.120214</td>\n",
       "      <td>0.229434</td>\n",
       "      <td>0.229434</td>\n",
       "      <td>0.215048</td>\n",
       "      <td>0.093237</td>\n",
       "      <td>0.167636</td>\n",
       "      <td>0.229434</td>\n",
       "      <td>...</td>\n",
       "      <td>0.244762</td>\n",
       "      <td>0.244762</td>\n",
       "      <td>0.043267</td>\n",
       "      <td>0.095832</td>\n",
       "      <td>0.182237</td>\n",
       "      <td>0.244762</td>\n",
       "      <td>0.175809</td>\n",
       "      <td>0.223660</td>\n",
       "      <td>0.114378</td>\n",
       "      <td>0.244762</td>\n",
       "    </tr>\n",
       "    <tr>\n",
       "      <th>690</th>\n",
       "      <td>0.221675</td>\n",
       "      <td>0.221675</td>\n",
       "      <td>0.086677</td>\n",
       "      <td>0.170533</td>\n",
       "      <td>0.193065</td>\n",
       "      <td>0.066729</td>\n",
       "      <td>0.107892</td>\n",
       "      <td>0.098847</td>\n",
       "      <td>0.221675</td>\n",
       "      <td>0.182388</td>\n",
       "      <td>...</td>\n",
       "      <td>0.000000</td>\n",
       "      <td>0.000000</td>\n",
       "      <td>0.000000</td>\n",
       "      <td>0.000000</td>\n",
       "      <td>0.000000</td>\n",
       "      <td>0.000000</td>\n",
       "      <td>0.000000</td>\n",
       "      <td>0.000000</td>\n",
       "      <td>0.000000</td>\n",
       "      <td>0.000000</td>\n",
       "    </tr>\n",
       "    <tr>\n",
       "      <th>1181</th>\n",
       "      <td>0.000000</td>\n",
       "      <td>0.000000</td>\n",
       "      <td>0.000000</td>\n",
       "      <td>0.000000</td>\n",
       "      <td>0.000000</td>\n",
       "      <td>0.000000</td>\n",
       "      <td>0.000000</td>\n",
       "      <td>0.000000</td>\n",
       "      <td>0.000000</td>\n",
       "      <td>0.000000</td>\n",
       "      <td>...</td>\n",
       "      <td>0.157820</td>\n",
       "      <td>0.052291</td>\n",
       "      <td>0.007950</td>\n",
       "      <td>0.023789</td>\n",
       "      <td>0.000000</td>\n",
       "      <td>0.109076</td>\n",
       "      <td>0.000000</td>\n",
       "      <td>0.000000</td>\n",
       "      <td>0.000000</td>\n",
       "      <td>0.052291</td>\n",
       "    </tr>\n",
       "    <tr>\n",
       "      <th>391</th>\n",
       "      <td>0.000000</td>\n",
       "      <td>0.000000</td>\n",
       "      <td>0.000000</td>\n",
       "      <td>0.000000</td>\n",
       "      <td>0.000000</td>\n",
       "      <td>0.000000</td>\n",
       "      <td>0.000000</td>\n",
       "      <td>0.000000</td>\n",
       "      <td>0.000000</td>\n",
       "      <td>0.000000</td>\n",
       "      <td>...</td>\n",
       "      <td>0.143311</td>\n",
       "      <td>0.045545</td>\n",
       "      <td>0.034216</td>\n",
       "      <td>0.004756</td>\n",
       "      <td>0.009238</td>\n",
       "      <td>0.086974</td>\n",
       "      <td>0.000000</td>\n",
       "      <td>0.000000</td>\n",
       "      <td>0.000000</td>\n",
       "      <td>0.038471</td>\n",
       "    </tr>\n",
       "    <tr>\n",
       "      <th>1655</th>\n",
       "      <td>0.280909</td>\n",
       "      <td>0.093813</td>\n",
       "      <td>0.038950</td>\n",
       "      <td>0.013243</td>\n",
       "      <td>0.016133</td>\n",
       "      <td>0.044991</td>\n",
       "      <td>0.058486</td>\n",
       "      <td>0.073621</td>\n",
       "      <td>0.280909</td>\n",
       "      <td>0.259045</td>\n",
       "      <td>...</td>\n",
       "      <td>0.111715</td>\n",
       "      <td>0.167347</td>\n",
       "      <td>0.114433</td>\n",
       "      <td>0.131601</td>\n",
       "      <td>0.172709</td>\n",
       "      <td>0.190245</td>\n",
       "      <td>0.227673</td>\n",
       "      <td>0.190062</td>\n",
       "      <td>0.195036</td>\n",
       "      <td>0.210743</td>\n",
       "    </tr>\n",
       "  </tbody>\n",
       "</table>\n",
       "<p>5 rows × 8100 columns</p>\n",
       "</div>"
      ],
      "text/plain": [
       "         HOG_0     HOG_1     HOG_2     HOG_3     HOG_4     HOG_5     HOG_6  \\\n",
       "555   0.208814  0.162883  0.069686  0.120214  0.229434  0.229434  0.215048   \n",
       "690   0.221675  0.221675  0.086677  0.170533  0.193065  0.066729  0.107892   \n",
       "1181  0.000000  0.000000  0.000000  0.000000  0.000000  0.000000  0.000000   \n",
       "391   0.000000  0.000000  0.000000  0.000000  0.000000  0.000000  0.000000   \n",
       "1655  0.280909  0.093813  0.038950  0.013243  0.016133  0.044991  0.058486   \n",
       "\n",
       "         HOG_7     HOG_8     HOG_9  ...  HOG_8090  HOG_8091  HOG_8092  \\\n",
       "555   0.093237  0.167636  0.229434  ...  0.244762  0.244762  0.043267   \n",
       "690   0.098847  0.221675  0.182388  ...  0.000000  0.000000  0.000000   \n",
       "1181  0.000000  0.000000  0.000000  ...  0.157820  0.052291  0.007950   \n",
       "391   0.000000  0.000000  0.000000  ...  0.143311  0.045545  0.034216   \n",
       "1655  0.073621  0.280909  0.259045  ...  0.111715  0.167347  0.114433   \n",
       "\n",
       "      HOG_8093  HOG_8094  HOG_8095  HOG_8096  HOG_8097  HOG_8098  HOG_8099  \n",
       "555   0.095832  0.182237  0.244762  0.175809  0.223660  0.114378  0.244762  \n",
       "690   0.000000  0.000000  0.000000  0.000000  0.000000  0.000000  0.000000  \n",
       "1181  0.023789  0.000000  0.109076  0.000000  0.000000  0.000000  0.052291  \n",
       "391   0.004756  0.009238  0.086974  0.000000  0.000000  0.000000  0.038471  \n",
       "1655  0.131601  0.172709  0.190245  0.227673  0.190062  0.195036  0.210743  \n",
       "\n",
       "[5 rows x 8100 columns]"
      ]
     },
     "execution_count": 26,
     "metadata": {},
     "output_type": "execute_result"
    }
   ],
   "source": [
    "unlabeled_df.head()"
   ]
  },
  {
   "cell_type": "code",
   "execution_count": 27,
   "id": "b0ee3d0e-4922-41d6-bc18-71081e025d99",
   "metadata": {},
   "outputs": [
    {
     "name": "stdout",
     "output_type": "stream",
     "text": [
      "Size of labelled df: 1320\n",
      "Size of unlabelled df: 1321\n"
     ]
    }
   ],
   "source": [
    "print(f\"Size of labelled df: {len(labeled_df1)}\")\n",
    "print(f\"Size of unlabelled df: {len(unlabeled_df)}\")"
   ]
  },
  {
   "cell_type": "code",
   "execution_count": 28,
   "id": "44f9e338-af5b-417a-8439-4c1407871a7d",
   "metadata": {},
   "outputs": [],
   "source": [
    "def custom_impurity(y):\n",
    "    classes, counts = np.unique(y, return_counts=True)\n",
    "    k = len(classes)\n",
    "    impurity = 0.0\n",
    "    total_samples = len(y)\n",
    "    for count in counts:\n",
    "        proportion = count / total_samples\n",
    "        impurity += proportion * (proportion - 1/k)\n",
    "    return impurity"
   ]
  },
  {
   "cell_type": "markdown",
   "id": "a853d819-3451-45cb-9bd6-47d0c332b615",
   "metadata": {},
   "source": [
    "# Model Builiding"
   ]
  },
  {
   "cell_type": "markdown",
   "id": "6ff22a57-fb8d-4e3b-91be-ac2a1aaaeb15",
   "metadata": {},
   "source": [
    "### Getting Labels "
   ]
  },
  {
   "cell_type": "code",
   "execution_count": 29,
   "id": "833c9b5e-e549-41d9-83c9-a329b31acad5",
   "metadata": {},
   "outputs": [],
   "source": [
    "def compute_p_star(num_classes):\n",
    "    return np.ones(num_classes) / num_classes\n",
    "\n",
    "def draw_random_label(p_star):\n",
    "    num_samples = len(Xu)\n",
    "    labels = np.random.choice(len(p_star), size=num_samples, p=p_star)\n",
    "    return labels"
   ]
  },
  {
   "cell_type": "markdown",
   "id": "235522ad-c9a6-40aa-999d-d68b2f0def8e",
   "metadata": {},
   "source": [
    "### function for training "
   ]
  },
  {
   "cell_type": "code",
   "execution_count": 30,
   "id": "de526b4b-527d-4f8b-8c3c-c20ba255be1c",
   "metadata": {},
   "outputs": [],
   "source": [
    "def train_rf(X, n_estimators=100):\n",
    "        rf = RandomForest(num_trees=n_estimators, depth_limit=5, example_subsample_rate=0.8, attr_subsample_rate=0.8)\n",
    "        rf.fit(X.iloc[:,:-1].values, X.iloc[:,-1].values)\n",
    "        return rf\n",
    "\n",
    "def train_tree(X):\n",
    "    dt = DecisionTree(depth_limit=5)\n",
    "    dt.fit(X.iloc[:,:-1].values, X.iloc[:,-1].values)\n",
    "    return dt"
   ]
  },
  {
   "cell_type": "markdown",
   "id": "7fb6e6ab-691e-4f4a-a157-98808601ff51",
   "metadata": {},
   "source": [
    "### Oob error"
   ]
  },
  {
   "cell_type": "code",
   "execution_count": 38,
   "id": "0beedb34-049b-4460-9bfc-5f2a5a5cc2b6",
   "metadata": {},
   "outputs": [],
   "source": [
    "def oobe(F, X, m):\n",
    "    # oobe = 1 - np.mean(F.predict(X[:, :-1]) == X[:, -1])\n",
    "    oobe = 1-F.oob_score(X.iloc[:,:-1].values, X.iloc[:,-1].values)\n",
    "    #print(f\"i: {m} oobe: {oobe}\")\n",
    "    return oobe"
   ]
  },
  {
   "cell_type": "markdown",
   "id": "94ed8a1d-3818-4819-bbf6-c23cffd75698",
   "metadata": {},
   "source": [
    "### Stopping Criteria"
   ]
  },
  {
   "cell_type": "code",
   "execution_count": 32,
   "id": "38f3b7a5-1fa0-426f-8580-ab193fc044bd",
   "metadata": {},
   "outputs": [],
   "source": [
    "def stopping_condition(emF, e0F, m, max_epochs):\n",
    "    if emF > e0F:\n",
    "        return True\n",
    "    if m >= max_epochs:\n",
    "        return True\n",
    "    return False"
   ]
  },
  {
   "cell_type": "markdown",
   "id": "c3cdf337-930a-495d-87f2-85a74585c480",
   "metadata": {},
   "source": [
    "### Forest Enhancement"
   ]
  },
  {
   "cell_type": "code",
   "execution_count": 33,
   "id": "4c1aabda-8ee2-41f2-b6ff-568750aefee0",
   "metadata": {},
   "outputs": [],
   "source": [
    "def semi_supervised_random_forests(Xl, Xu, num_trees, max_epochs):\n",
    "    F = train_rf(Xl, num_trees)\n",
    "    e0F = oobe(F, Xl, 0)\n",
    "    emF = 0\n",
    "    m = 0\n",
    "\n",
    "    while True:\n",
    "        m += 1\n",
    "        K = len(np.unique(Xl[:,-1]))\n",
    "        p_star = compute_p_star(K)\n",
    "        for i in range(num_trees):\n",
    "            y_hat_u = draw_random_label(p_star)\n",
    "            Xn = np.vstack((Xl, np.column_stack((Xu, y_hat_u))))\n",
    "            F.estimators_[i] = train_tree(Xn)\n",
    "        emF = oobe(F, Xl, m)\n",
    "        if stopping_condition(emF, e0F, m, max_epochs): \n",
    "            break\n",
    "        e0F = emF\n",
    "    return F"
   ]
  },
  {
   "cell_type": "markdown",
   "id": "ff75f96f-3c4e-4f02-b246-f7f1d613fcd6",
   "metadata": {},
   "source": [
    "# Model Training"
   ]
  },
  {
   "cell_type": "code",
   "execution_count": 39,
   "id": "f2a32269-313a-4f3a-9dc4-41b4a695c756",
   "metadata": {},
   "outputs": [
    {
     "ename": "InvalidIndexError",
     "evalue": "(slice(None, None, None), -1)",
     "output_type": "error",
     "traceback": [
      "\u001b[1;31m---------------------------------------------------------------------------\u001b[0m",
      "\u001b[1;31mTypeError\u001b[0m                                 Traceback (most recent call last)",
      "File \u001b[1;32m~\\OneDrive\\Desktop\\Semester - 4\\Machine Learning\\Project\\ssrf\\Lib\\site-packages\\pandas\\core\\indexes\\base.py:3805\u001b[0m, in \u001b[0;36mIndex.get_loc\u001b[1;34m(self, key)\u001b[0m\n\u001b[0;32m   3804\u001b[0m \u001b[38;5;28;01mtry\u001b[39;00m:\n\u001b[1;32m-> 3805\u001b[0m     \u001b[38;5;28;01mreturn\u001b[39;00m \u001b[38;5;28;43mself\u001b[39;49m\u001b[38;5;241;43m.\u001b[39;49m\u001b[43m_engine\u001b[49m\u001b[38;5;241;43m.\u001b[39;49m\u001b[43mget_loc\u001b[49m\u001b[43m(\u001b[49m\u001b[43mcasted_key\u001b[49m\u001b[43m)\u001b[49m\n\u001b[0;32m   3806\u001b[0m \u001b[38;5;28;01mexcept\u001b[39;00m \u001b[38;5;167;01mKeyError\u001b[39;00m \u001b[38;5;28;01mas\u001b[39;00m err:\n",
      "File \u001b[1;32mindex.pyx:167\u001b[0m, in \u001b[0;36mpandas._libs.index.IndexEngine.get_loc\u001b[1;34m()\u001b[0m\n",
      "File \u001b[1;32mindex.pyx:173\u001b[0m, in \u001b[0;36mpandas._libs.index.IndexEngine.get_loc\u001b[1;34m()\u001b[0m\n",
      "\u001b[1;31mTypeError\u001b[0m: '(slice(None, None, None), -1)' is an invalid key",
      "\nDuring handling of the above exception, another exception occurred:\n",
      "\u001b[1;31mInvalidIndexError\u001b[0m                         Traceback (most recent call last)",
      "Cell \u001b[1;32mIn[39], line 8\u001b[0m\n\u001b[0;32m      5\u001b[0m max_epochs \u001b[38;5;241m=\u001b[39m \u001b[38;5;241m1\u001b[39m\n\u001b[0;32m      7\u001b[0m \u001b[38;5;66;03m# Call the semi_supervised_random_forests function\u001b[39;00m\n\u001b[1;32m----> 8\u001b[0m forest \u001b[38;5;241m=\u001b[39m \u001b[43msemi_supervised_random_forests\u001b[49m\u001b[43m(\u001b[49m\u001b[43mXl\u001b[49m\u001b[43m,\u001b[49m\u001b[43m \u001b[49m\u001b[43mXu\u001b[49m\u001b[43m,\u001b[49m\u001b[43m \u001b[49m\u001b[43mnum_trees\u001b[49m\u001b[43m,\u001b[49m\u001b[43m \u001b[49m\u001b[43mmax_epochs\u001b[49m\u001b[43m)\u001b[49m\n",
      "Cell \u001b[1;32mIn[33], line 9\u001b[0m, in \u001b[0;36msemi_supervised_random_forests\u001b[1;34m(Xl, Xu, num_trees, max_epochs)\u001b[0m\n\u001b[0;32m      7\u001b[0m \u001b[38;5;28;01mwhile\u001b[39;00m \u001b[38;5;28;01mTrue\u001b[39;00m:\n\u001b[0;32m      8\u001b[0m     m \u001b[38;5;241m+\u001b[39m\u001b[38;5;241m=\u001b[39m \u001b[38;5;241m1\u001b[39m\n\u001b[1;32m----> 9\u001b[0m     K \u001b[38;5;241m=\u001b[39m \u001b[38;5;28mlen\u001b[39m(np\u001b[38;5;241m.\u001b[39munique(\u001b[43mXl\u001b[49m\u001b[43m[\u001b[49m\u001b[43m:\u001b[49m\u001b[43m,\u001b[49m\u001b[38;5;241;43m-\u001b[39;49m\u001b[38;5;241;43m1\u001b[39;49m\u001b[43m]\u001b[49m))\n\u001b[0;32m     10\u001b[0m     p_star \u001b[38;5;241m=\u001b[39m compute_p_star(K)\n\u001b[0;32m     11\u001b[0m     \u001b[38;5;28;01mfor\u001b[39;00m i \u001b[38;5;129;01min\u001b[39;00m \u001b[38;5;28mrange\u001b[39m(num_trees):\n",
      "File \u001b[1;32m~\\OneDrive\\Desktop\\Semester - 4\\Machine Learning\\Project\\ssrf\\Lib\\site-packages\\pandas\\core\\frame.py:4090\u001b[0m, in \u001b[0;36mDataFrame.__getitem__\u001b[1;34m(self, key)\u001b[0m\n\u001b[0;32m   4088\u001b[0m \u001b[38;5;28;01mif\u001b[39;00m \u001b[38;5;28mself\u001b[39m\u001b[38;5;241m.\u001b[39mcolumns\u001b[38;5;241m.\u001b[39mnlevels \u001b[38;5;241m>\u001b[39m \u001b[38;5;241m1\u001b[39m:\n\u001b[0;32m   4089\u001b[0m     \u001b[38;5;28;01mreturn\u001b[39;00m \u001b[38;5;28mself\u001b[39m\u001b[38;5;241m.\u001b[39m_getitem_multilevel(key)\n\u001b[1;32m-> 4090\u001b[0m indexer \u001b[38;5;241m=\u001b[39m \u001b[38;5;28;43mself\u001b[39;49m\u001b[38;5;241;43m.\u001b[39;49m\u001b[43mcolumns\u001b[49m\u001b[38;5;241;43m.\u001b[39;49m\u001b[43mget_loc\u001b[49m\u001b[43m(\u001b[49m\u001b[43mkey\u001b[49m\u001b[43m)\u001b[49m\n\u001b[0;32m   4091\u001b[0m \u001b[38;5;28;01mif\u001b[39;00m is_integer(indexer):\n\u001b[0;32m   4092\u001b[0m     indexer \u001b[38;5;241m=\u001b[39m [indexer]\n",
      "File \u001b[1;32m~\\OneDrive\\Desktop\\Semester - 4\\Machine Learning\\Project\\ssrf\\Lib\\site-packages\\pandas\\core\\indexes\\base.py:3817\u001b[0m, in \u001b[0;36mIndex.get_loc\u001b[1;34m(self, key)\u001b[0m\n\u001b[0;32m   3812\u001b[0m     \u001b[38;5;28;01mraise\u001b[39;00m \u001b[38;5;167;01mKeyError\u001b[39;00m(key) \u001b[38;5;28;01mfrom\u001b[39;00m \u001b[38;5;21;01merr\u001b[39;00m\n\u001b[0;32m   3813\u001b[0m \u001b[38;5;28;01mexcept\u001b[39;00m \u001b[38;5;167;01mTypeError\u001b[39;00m:\n\u001b[0;32m   3814\u001b[0m     \u001b[38;5;66;03m# If we have a listlike key, _check_indexing_error will raise\u001b[39;00m\n\u001b[0;32m   3815\u001b[0m     \u001b[38;5;66;03m#  InvalidIndexError. Otherwise we fall through and re-raise\u001b[39;00m\n\u001b[0;32m   3816\u001b[0m     \u001b[38;5;66;03m#  the TypeError.\u001b[39;00m\n\u001b[1;32m-> 3817\u001b[0m     \u001b[38;5;28;43mself\u001b[39;49m\u001b[38;5;241;43m.\u001b[39;49m\u001b[43m_check_indexing_error\u001b[49m\u001b[43m(\u001b[49m\u001b[43mkey\u001b[49m\u001b[43m)\u001b[49m\n\u001b[0;32m   3818\u001b[0m     \u001b[38;5;28;01mraise\u001b[39;00m\n",
      "File \u001b[1;32m~\\OneDrive\\Desktop\\Semester - 4\\Machine Learning\\Project\\ssrf\\Lib\\site-packages\\pandas\\core\\indexes\\base.py:6059\u001b[0m, in \u001b[0;36mIndex._check_indexing_error\u001b[1;34m(self, key)\u001b[0m\n\u001b[0;32m   6055\u001b[0m \u001b[38;5;28;01mdef\u001b[39;00m \u001b[38;5;21m_check_indexing_error\u001b[39m(\u001b[38;5;28mself\u001b[39m, key):\n\u001b[0;32m   6056\u001b[0m     \u001b[38;5;28;01mif\u001b[39;00m \u001b[38;5;129;01mnot\u001b[39;00m is_scalar(key):\n\u001b[0;32m   6057\u001b[0m         \u001b[38;5;66;03m# if key is not a scalar, directly raise an error (the code below\u001b[39;00m\n\u001b[0;32m   6058\u001b[0m         \u001b[38;5;66;03m# would convert to numpy arrays and raise later any way) - GH29926\u001b[39;00m\n\u001b[1;32m-> 6059\u001b[0m         \u001b[38;5;28;01mraise\u001b[39;00m InvalidIndexError(key)\n",
      "\u001b[1;31mInvalidIndexError\u001b[0m: (slice(None, None, None), -1)"
     ]
    }
   ],
   "source": [
    "Xl = labeled_df1\n",
    "Xu = unlabeled_df\n",
    "\n",
    "num_trees = 10\n",
    "max_epochs = 1\n",
    "\n",
    "# Call the semi_supervised_random_forests function\n",
    "forest = semi_supervised_random_forests(Xl, Xu, num_trees, max_epochs)"
   ]
  },
  {
   "cell_type": "markdown",
   "id": "8426d200-4a0c-4ad4-8067-b2732508963c",
   "metadata": {},
   "source": [
    "# Model Evaluation "
   ]
  },
  {
   "cell_type": "code",
   "execution_count": null,
   "id": "f7bfa49b-6379-429c-9eef-a50cabca0b1f",
   "metadata": {},
   "outputs": [],
   "source": [
    "y_pred = forest.classify(test_df.iloc[:,:-1].values)\n",
    "y_true = test_df.values[:,-1]\n",
    "y_true = y_true.astype(int)\n",
    "y_pred = y_pred.astype(int)"
   ]
  },
  {
   "cell_type": "code",
   "execution_count": null,
   "id": "9d4e21df-462b-4e14-9fbd-e84f3ecba3ed",
   "metadata": {},
   "outputs": [],
   "source": [
    "labels_num = label_encoder.inverse_transform(test_df['Label'])\n",
    "labels = np.unique(labels_num)\n",
    "labels = list(labels)"
   ]
  },
  {
   "cell_type": "code",
   "execution_count": null,
   "id": "f944e73e-6a65-413a-9b45-7e9713cc6b97",
   "metadata": {},
   "outputs": [],
   "source": [
    "def plot_confusion_matrix(y_true, y_pred, label_text, label_num):\n",
    "    cm = confusion_matrix(y_true, y_pred, labels=label_num)\n",
    "    plt.figure(figsize=(10, 8))\n",
    "    sns.heatmap(cm, annot=True, fmt=\"d\", cmap=\"Blues\", xticklabels=label_text, yticklabels=label_text)\n",
    "    plt.xlabel('Predicted labels')\n",
    "    plt.ylabel('True labels')\n",
    "    plt.title('Confusion Matrix for Semi-supervised Random Forest')\n",
    "    plt.show()\n",
    "\n",
    "plot_confusion_matrix(y_true, y_pred, labels, np.unique(train_df.values[:,-1]))"
   ]
  },
  {
   "cell_type": "code",
   "execution_count": null,
   "id": "ee59e945-ff08-40e1-a413-458f62d1475f",
   "metadata": {},
   "outputs": [],
   "source": [
    "def metrics(y_true, y_pred):\n",
    "\n",
    "    confusion_matrix = np.zeros((y_true.max() + 1, y_true.max() + 1))\n",
    "    for i in range(len(y_true)):\n",
    "        confusion_matrix[y_true[i], y_pred[i]] += 1\n",
    "\n",
    "    # precision and recall\n",
    "    precision = []\n",
    "    recall = []\n",
    "    for i in range(y_true.max() + 1):\n",
    "        tp = confusion_matrix[i, i]\n",
    "        fp = np.sum(confusion_matrix[:, i]) - tp\n",
    "        fn = np.sum(confusion_matrix[i, :]) - tp\n",
    "        precision.append(tp / (tp + fp))\n",
    "        recall.append(tp / (tp + fn))\n",
    "    precisions = np.mean(precision)\n",
    "    recalls = np.mean(recall)\n",
    "\n",
    "    # Calculating accuracy\n",
    "    accuracy = np.trace(confusion_matrix) / np.sum(confusion_matrix)\n",
    "\n",
    "    # Calculating F1 score\n",
    "    f1_score = 2 * (precisions * recalls) / (precisions + recalls) if (precisions + recalls) != 0 else 0\n",
    "\n",
    "    return precisions, recalls, precision, recall, accuracy, f1_score\n",
    "\n",
    "precision , recall, precision_list, recall_list, accuracy, f1_score = metrics(y_true, y_pred)"
   ]
  },
  {
   "cell_type": "code",
   "execution_count": null,
   "id": "3808d0c7-8f4c-437c-9f86-5e81f3bc86b6",
   "metadata": {},
   "outputs": [],
   "source": [
    "test_size = len(test_df)\n",
    "data = {\n",
    "    'Dataset': ['Caltech-101'],\n",
    "    'Test Size': [test_size]\n",
    "}\n",
    "\n",
    "df = pd.DataFrame(data)"
   ]
  },
  {
   "cell_type": "code",
   "execution_count": null,
   "id": "2a78371f-0086-4f17-b10c-9e646c5a638d",
   "metadata": {},
   "outputs": [],
   "source": [
    "df['Precision'] = precision\n",
    "df['Recall'] = recall\n",
    "df['Accuracy'] = accuracy\n",
    "df['F1 Score'] = f1_score\n",
    "df"
   ]
  },
  {
   "cell_type": "code",
   "execution_count": null,
   "id": "d0feed39-eb3e-461e-a6b3-66b6cd1434d8",
   "metadata": {},
   "outputs": [],
   "source": [
    "df2 = pd.DataFrame()\n",
    "df2[\"Category\"] = labels\n",
    "df2[\"Precision\"] = precision_list\n",
    "df2[\"Recall\"] = recall_list\n",
    "df2"
   ]
  }
 ],
 "metadata": {
  "kernelspec": {
   "display_name": "ssrf",
   "language": "python",
   "name": "ssrf"
  },
  "language_info": {
   "codemirror_mode": {
    "name": "ipython",
    "version": 3
   },
   "file_extension": ".py",
   "mimetype": "text/x-python",
   "name": "python",
   "nbconvert_exporter": "python",
   "pygments_lexer": "ipython3",
   "version": "3.11.5"
  }
 },
 "nbformat": 4,
 "nbformat_minor": 5
}
