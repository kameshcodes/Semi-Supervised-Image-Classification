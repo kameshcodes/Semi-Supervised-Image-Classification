{
 "cells": [
  {
   "cell_type": "markdown",
   "id": "5c6b5e96-8196-4ff8-ba21-50475bcae992",
   "metadata": {},
   "source": [
    "# 1. Import Libraries "
   ]
  },
  {
   "cell_type": "code",
   "execution_count": 1,
   "id": "2fed71cf-ddbb-4a76-844a-cd95591af346",
   "metadata": {},
   "outputs": [],
   "source": [
    "import os\n",
    "import numpy as np\n",
    "import pandas as pd\n",
    "import seaborn as sns\n",
    "from PIL import Image\n",
    "import matplotlib.pyplot as plt\n",
    "from sklearn.metrics import confusion_matrix\n",
    "from sklearn.ensemble import RandomForestClassifier\n",
    "from sklearn.tree import DecisionTreeClassifier\n",
    "\n",
    "%load_ext autoreload\n",
    "%autoreload 2"
   ]
  },
  {
   "cell_type": "code",
   "execution_count": 2,
   "id": "76740a82-8ab9-4b7e-a69a-2e4ca2067410",
   "metadata": {},
   "outputs": [
    {
     "name": "stdout",
     "output_type": "stream",
     "text": [
      "Number of training images: 2641\n",
      "Number of test images: 294\n"
     ]
    }
   ],
   "source": [
    "train_csv_path = r'..\\data\\train_test_csv\\train_data.csv'\n",
    "test_csv_path = r'..\\data\\train_test_csv\\test_data.csv'\n",
    "train_df = pd.read_csv(train_csv_path)\n",
    "test_df = pd.read_csv(test_csv_path)\n",
    "\n",
    "# Display the number of imported images\n",
    "print(f\"Number of training images: {len(train_df)}\")\n",
    "print(f\"Number of test images: {len(test_df)}\")"
   ]
  },
  {
   "cell_type": "code",
   "execution_count": 3,
   "id": "8aa7032c-9e1b-4e7d-b776-d507272daa0e",
   "metadata": {},
   "outputs": [
    {
     "data": {
      "text/plain": [
       "Label\n",
       "airplanes            720\n",
       "Motorbikes           718\n",
       "BACKGROUND_Google    420\n",
       "Faces_easy           392\n",
       "Faces                391\n",
       "Name: count, dtype: int64"
      ]
     },
     "execution_count": 3,
     "metadata": {},
     "output_type": "execute_result"
    }
   ],
   "source": [
    "train_df.Label.value_counts()"
   ]
  },
  {
   "cell_type": "code",
   "execution_count": 4,
   "id": "f444c33e-cc98-4003-8d74-e10a17717453",
   "metadata": {},
   "outputs": [
    {
     "data": {
      "text/plain": [
       "Label\n",
       "Motorbikes           80\n",
       "airplanes            80\n",
       "BACKGROUND_Google    47\n",
       "Faces                44\n",
       "Faces_easy           43\n",
       "Name: count, dtype: int64"
      ]
     },
     "execution_count": 4,
     "metadata": {},
     "output_type": "execute_result"
    }
   ],
   "source": [
    "test_df.Label.value_counts()"
   ]
  },
  {
   "cell_type": "code",
   "execution_count": 5,
   "id": "196e8a19-27d5-40ff-b0a9-10a561b0c1f8",
   "metadata": {},
   "outputs": [
    {
     "data": {
      "text/html": [
       "<div>\n",
       "<style scoped>\n",
       "    .dataframe tbody tr th:only-of-type {\n",
       "        vertical-align: middle;\n",
       "    }\n",
       "\n",
       "    .dataframe tbody tr th {\n",
       "        vertical-align: top;\n",
       "    }\n",
       "\n",
       "    .dataframe thead th {\n",
       "        text-align: right;\n",
       "    }\n",
       "</style>\n",
       "<table border=\"1\" class=\"dataframe\">\n",
       "  <thead>\n",
       "    <tr style=\"text-align: right;\">\n",
       "      <th></th>\n",
       "      <th>HOG_0</th>\n",
       "      <th>HOG_1</th>\n",
       "      <th>HOG_2</th>\n",
       "      <th>HOG_3</th>\n",
       "      <th>HOG_4</th>\n",
       "      <th>HOG_5</th>\n",
       "      <th>HOG_6</th>\n",
       "      <th>HOG_7</th>\n",
       "      <th>HOG_8</th>\n",
       "      <th>HOG_9</th>\n",
       "      <th>...</th>\n",
       "      <th>HOG_8091</th>\n",
       "      <th>HOG_8092</th>\n",
       "      <th>HOG_8093</th>\n",
       "      <th>HOG_8094</th>\n",
       "      <th>HOG_8095</th>\n",
       "      <th>HOG_8096</th>\n",
       "      <th>HOG_8097</th>\n",
       "      <th>HOG_8098</th>\n",
       "      <th>HOG_8099</th>\n",
       "      <th>Label</th>\n",
       "    </tr>\n",
       "  </thead>\n",
       "  <tbody>\n",
       "    <tr>\n",
       "      <th>0</th>\n",
       "      <td>0.038366</td>\n",
       "      <td>0.034774</td>\n",
       "      <td>0.031683</td>\n",
       "      <td>0.103240</td>\n",
       "      <td>0.138038</td>\n",
       "      <td>0.176418</td>\n",
       "      <td>0.246472</td>\n",
       "      <td>0.246472</td>\n",
       "      <td>0.158125</td>\n",
       "      <td>0.025145</td>\n",
       "      <td>...</td>\n",
       "      <td>0.035912</td>\n",
       "      <td>0.016476</td>\n",
       "      <td>0.035359</td>\n",
       "      <td>0.147580</td>\n",
       "      <td>0.306789</td>\n",
       "      <td>0.306789</td>\n",
       "      <td>0.164016</td>\n",
       "      <td>0.039841</td>\n",
       "      <td>0.038114</td>\n",
       "      <td>BACKGROUND_Google</td>\n",
       "    </tr>\n",
       "    <tr>\n",
       "      <th>1</th>\n",
       "      <td>0.241152</td>\n",
       "      <td>0.037368</td>\n",
       "      <td>0.034159</td>\n",
       "      <td>0.025061</td>\n",
       "      <td>0.070951</td>\n",
       "      <td>0.014410</td>\n",
       "      <td>0.003767</td>\n",
       "      <td>0.001928</td>\n",
       "      <td>0.178829</td>\n",
       "      <td>0.337243</td>\n",
       "      <td>...</td>\n",
       "      <td>0.118079</td>\n",
       "      <td>0.005067</td>\n",
       "      <td>0.007300</td>\n",
       "      <td>0.002927</td>\n",
       "      <td>0.005443</td>\n",
       "      <td>0.003690</td>\n",
       "      <td>0.009717</td>\n",
       "      <td>0.003888</td>\n",
       "      <td>0.121595</td>\n",
       "      <td>Motorbikes</td>\n",
       "    </tr>\n",
       "    <tr>\n",
       "      <th>2</th>\n",
       "      <td>0.140515</td>\n",
       "      <td>0.000000</td>\n",
       "      <td>0.000000</td>\n",
       "      <td>0.000000</td>\n",
       "      <td>0.000891</td>\n",
       "      <td>0.000000</td>\n",
       "      <td>0.000000</td>\n",
       "      <td>0.000000</td>\n",
       "      <td>0.140550</td>\n",
       "      <td>0.159198</td>\n",
       "      <td>...</td>\n",
       "      <td>0.375181</td>\n",
       "      <td>0.183314</td>\n",
       "      <td>0.098506</td>\n",
       "      <td>0.060341</td>\n",
       "      <td>0.084255</td>\n",
       "      <td>0.042076</td>\n",
       "      <td>0.144795</td>\n",
       "      <td>0.156756</td>\n",
       "      <td>0.375181</td>\n",
       "      <td>airplanes</td>\n",
       "    </tr>\n",
       "    <tr>\n",
       "      <th>3</th>\n",
       "      <td>0.379993</td>\n",
       "      <td>0.030309</td>\n",
       "      <td>0.008011</td>\n",
       "      <td>0.000308</td>\n",
       "      <td>0.014956</td>\n",
       "      <td>0.006318</td>\n",
       "      <td>0.015724</td>\n",
       "      <td>0.045974</td>\n",
       "      <td>0.379993</td>\n",
       "      <td>0.379993</td>\n",
       "      <td>...</td>\n",
       "      <td>0.349345</td>\n",
       "      <td>0.023273</td>\n",
       "      <td>0.001012</td>\n",
       "      <td>0.000892</td>\n",
       "      <td>0.031166</td>\n",
       "      <td>0.000000</td>\n",
       "      <td>0.000023</td>\n",
       "      <td>0.008693</td>\n",
       "      <td>0.349345</td>\n",
       "      <td>Motorbikes</td>\n",
       "    </tr>\n",
       "    <tr>\n",
       "      <th>4</th>\n",
       "      <td>0.307204</td>\n",
       "      <td>0.083733</td>\n",
       "      <td>0.018682</td>\n",
       "      <td>0.060296</td>\n",
       "      <td>0.079989</td>\n",
       "      <td>0.028442</td>\n",
       "      <td>0.012159</td>\n",
       "      <td>0.041207</td>\n",
       "      <td>0.307204</td>\n",
       "      <td>0.307204</td>\n",
       "      <td>...</td>\n",
       "      <td>0.268115</td>\n",
       "      <td>0.033532</td>\n",
       "      <td>0.041168</td>\n",
       "      <td>0.218352</td>\n",
       "      <td>0.248037</td>\n",
       "      <td>0.221883</td>\n",
       "      <td>0.268115</td>\n",
       "      <td>0.214999</td>\n",
       "      <td>0.268115</td>\n",
       "      <td>airplanes</td>\n",
       "    </tr>\n",
       "  </tbody>\n",
       "</table>\n",
       "<p>5 rows × 8101 columns</p>\n",
       "</div>"
      ],
      "text/plain": [
       "      HOG_0     HOG_1     HOG_2     HOG_3     HOG_4     HOG_5     HOG_6  \\\n",
       "0  0.038366  0.034774  0.031683  0.103240  0.138038  0.176418  0.246472   \n",
       "1  0.241152  0.037368  0.034159  0.025061  0.070951  0.014410  0.003767   \n",
       "2  0.140515  0.000000  0.000000  0.000000  0.000891  0.000000  0.000000   \n",
       "3  0.379993  0.030309  0.008011  0.000308  0.014956  0.006318  0.015724   \n",
       "4  0.307204  0.083733  0.018682  0.060296  0.079989  0.028442  0.012159   \n",
       "\n",
       "      HOG_7     HOG_8     HOG_9  ...  HOG_8091  HOG_8092  HOG_8093  HOG_8094  \\\n",
       "0  0.246472  0.158125  0.025145  ...  0.035912  0.016476  0.035359  0.147580   \n",
       "1  0.001928  0.178829  0.337243  ...  0.118079  0.005067  0.007300  0.002927   \n",
       "2  0.000000  0.140550  0.159198  ...  0.375181  0.183314  0.098506  0.060341   \n",
       "3  0.045974  0.379993  0.379993  ...  0.349345  0.023273  0.001012  0.000892   \n",
       "4  0.041207  0.307204  0.307204  ...  0.268115  0.033532  0.041168  0.218352   \n",
       "\n",
       "   HOG_8095  HOG_8096  HOG_8097  HOG_8098  HOG_8099              Label  \n",
       "0  0.306789  0.306789  0.164016  0.039841  0.038114  BACKGROUND_Google  \n",
       "1  0.005443  0.003690  0.009717  0.003888  0.121595         Motorbikes  \n",
       "2  0.084255  0.042076  0.144795  0.156756  0.375181          airplanes  \n",
       "3  0.031166  0.000000  0.000023  0.008693  0.349345         Motorbikes  \n",
       "4  0.248037  0.221883  0.268115  0.214999  0.268115          airplanes  \n",
       "\n",
       "[5 rows x 8101 columns]"
      ]
     },
     "execution_count": 5,
     "metadata": {},
     "output_type": "execute_result"
    }
   ],
   "source": [
    "train_df.head()"
   ]
  },
  {
   "cell_type": "code",
   "execution_count": 6,
   "id": "759f8efd-7526-45e5-bd26-a8468d04f24c",
   "metadata": {},
   "outputs": [],
   "source": [
    "from sklearn.preprocessing import LabelEncoder\n",
    "\n",
    "label_encoder = LabelEncoder()\n",
    "train_df['Label'] = label_encoder.fit_transform(train_df['Label'])\n",
    "test_df['Label'] = label_encoder.transform(test_df['Label'])"
   ]
  },
  {
   "cell_type": "markdown",
   "id": "07bf8566-ffe3-408d-b788-d9dea57fa09f",
   "metadata": {},
   "source": [
    "# 2. Creating Labelled Unlabelled Data"
   ]
  },
  {
   "cell_type": "code",
   "execution_count": 7,
   "id": "810bb682-3bcc-4ab5-9eb9-918b681fa3f9",
   "metadata": {},
   "outputs": [],
   "source": [
    "from sklearn.model_selection import train_test_split\n",
    "\n",
    "def partition_and_make_unlabeled(df, test_size=0.5, random_state=None):\n",
    "    labeled_df1, labeled_df2 = train_test_split(df, test_size=test_size, stratify=df['Label'], random_state=random_state)\n",
    "    unlabeled_df = labeled_df2.drop('Label', axis=1)\n",
    "    \n",
    "    return labeled_df1, labeled_df2, unlabeled_df"
   ]
  },
  {
   "cell_type": "code",
   "execution_count": 8,
   "id": "ef0bdc2b-022a-4695-a185-f4db2cd5ccd9",
   "metadata": {},
   "outputs": [],
   "source": [
    "labeled_df1, labeled_df2, unlabeled_df = partition_and_make_unlabeled(train_df, test_size=0.80, random_state=42)"
   ]
  },
  {
   "cell_type": "code",
   "execution_count": 9,
   "id": "38ee079b-ea09-4d13-8d8e-81a1506d2ba7",
   "metadata": {
    "scrolled": true
   },
   "outputs": [
    {
     "data": {
      "text/html": [
       "<div>\n",
       "<style scoped>\n",
       "    .dataframe tbody tr th:only-of-type {\n",
       "        vertical-align: middle;\n",
       "    }\n",
       "\n",
       "    .dataframe tbody tr th {\n",
       "        vertical-align: top;\n",
       "    }\n",
       "\n",
       "    .dataframe thead th {\n",
       "        text-align: right;\n",
       "    }\n",
       "</style>\n",
       "<table border=\"1\" class=\"dataframe\">\n",
       "  <thead>\n",
       "    <tr style=\"text-align: right;\">\n",
       "      <th></th>\n",
       "      <th>HOG_0</th>\n",
       "      <th>HOG_1</th>\n",
       "      <th>HOG_2</th>\n",
       "      <th>HOG_3</th>\n",
       "      <th>HOG_4</th>\n",
       "      <th>HOG_5</th>\n",
       "      <th>HOG_6</th>\n",
       "      <th>HOG_7</th>\n",
       "      <th>HOG_8</th>\n",
       "      <th>HOG_9</th>\n",
       "      <th>...</th>\n",
       "      <th>HOG_8090</th>\n",
       "      <th>HOG_8091</th>\n",
       "      <th>HOG_8092</th>\n",
       "      <th>HOG_8093</th>\n",
       "      <th>HOG_8094</th>\n",
       "      <th>HOG_8095</th>\n",
       "      <th>HOG_8096</th>\n",
       "      <th>HOG_8097</th>\n",
       "      <th>HOG_8098</th>\n",
       "      <th>HOG_8099</th>\n",
       "    </tr>\n",
       "  </thead>\n",
       "  <tbody>\n",
       "    <tr>\n",
       "      <th>1485</th>\n",
       "      <td>0.158628</td>\n",
       "      <td>0.000000</td>\n",
       "      <td>0.000000</td>\n",
       "      <td>0.000000</td>\n",
       "      <td>0.000000</td>\n",
       "      <td>0.000000</td>\n",
       "      <td>0.000000</td>\n",
       "      <td>0.000000</td>\n",
       "      <td>0.156872</td>\n",
       "      <td>0.180218</td>\n",
       "      <td>...</td>\n",
       "      <td>0.496588</td>\n",
       "      <td>0.496588</td>\n",
       "      <td>0.026402</td>\n",
       "      <td>0.020954</td>\n",
       "      <td>0.004773</td>\n",
       "      <td>0.010718</td>\n",
       "      <td>0.002488</td>\n",
       "      <td>0.004995</td>\n",
       "      <td>0.006333</td>\n",
       "      <td>0.496588</td>\n",
       "    </tr>\n",
       "    <tr>\n",
       "      <th>2620</th>\n",
       "      <td>0.037935</td>\n",
       "      <td>0.000000</td>\n",
       "      <td>0.000000</td>\n",
       "      <td>0.000000</td>\n",
       "      <td>0.026298</td>\n",
       "      <td>0.000000</td>\n",
       "      <td>0.000000</td>\n",
       "      <td>0.000000</td>\n",
       "      <td>0.037935</td>\n",
       "      <td>0.018102</td>\n",
       "      <td>...</td>\n",
       "      <td>0.000000</td>\n",
       "      <td>0.000000</td>\n",
       "      <td>0.000000</td>\n",
       "      <td>0.000000</td>\n",
       "      <td>0.000000</td>\n",
       "      <td>0.000000</td>\n",
       "      <td>0.000000</td>\n",
       "      <td>0.000000</td>\n",
       "      <td>0.000000</td>\n",
       "      <td>0.000000</td>\n",
       "    </tr>\n",
       "    <tr>\n",
       "      <th>624</th>\n",
       "      <td>0.000000</td>\n",
       "      <td>0.000000</td>\n",
       "      <td>0.000000</td>\n",
       "      <td>0.000000</td>\n",
       "      <td>0.000000</td>\n",
       "      <td>0.000000</td>\n",
       "      <td>0.000000</td>\n",
       "      <td>0.000000</td>\n",
       "      <td>0.000000</td>\n",
       "      <td>0.000000</td>\n",
       "      <td>...</td>\n",
       "      <td>0.000000</td>\n",
       "      <td>0.000000</td>\n",
       "      <td>0.000000</td>\n",
       "      <td>0.000000</td>\n",
       "      <td>0.000000</td>\n",
       "      <td>0.000000</td>\n",
       "      <td>0.000000</td>\n",
       "      <td>0.000000</td>\n",
       "      <td>0.000000</td>\n",
       "      <td>0.000000</td>\n",
       "    </tr>\n",
       "    <tr>\n",
       "      <th>2064</th>\n",
       "      <td>0.029575</td>\n",
       "      <td>0.010799</td>\n",
       "      <td>0.002153</td>\n",
       "      <td>0.012303</td>\n",
       "      <td>0.032226</td>\n",
       "      <td>0.000376</td>\n",
       "      <td>0.001213</td>\n",
       "      <td>0.000133</td>\n",
       "      <td>0.014780</td>\n",
       "      <td>0.100381</td>\n",
       "      <td>...</td>\n",
       "      <td>0.120798</td>\n",
       "      <td>0.026410</td>\n",
       "      <td>0.005916</td>\n",
       "      <td>0.001769</td>\n",
       "      <td>0.000000</td>\n",
       "      <td>0.054480</td>\n",
       "      <td>0.000000</td>\n",
       "      <td>0.003855</td>\n",
       "      <td>0.001288</td>\n",
       "      <td>0.026359</td>\n",
       "    </tr>\n",
       "    <tr>\n",
       "      <th>743</th>\n",
       "      <td>0.143465</td>\n",
       "      <td>0.266407</td>\n",
       "      <td>0.266407</td>\n",
       "      <td>0.266407</td>\n",
       "      <td>0.093926</td>\n",
       "      <td>0.047119</td>\n",
       "      <td>0.015492</td>\n",
       "      <td>0.037342</td>\n",
       "      <td>0.083198</td>\n",
       "      <td>0.142346</td>\n",
       "      <td>...</td>\n",
       "      <td>0.141935</td>\n",
       "      <td>0.168858</td>\n",
       "      <td>0.100689</td>\n",
       "      <td>0.041478</td>\n",
       "      <td>0.055842</td>\n",
       "      <td>0.149941</td>\n",
       "      <td>0.128183</td>\n",
       "      <td>0.138132</td>\n",
       "      <td>0.206807</td>\n",
       "      <td>0.250292</td>\n",
       "    </tr>\n",
       "  </tbody>\n",
       "</table>\n",
       "<p>5 rows × 8100 columns</p>\n",
       "</div>"
      ],
      "text/plain": [
       "         HOG_0     HOG_1     HOG_2     HOG_3     HOG_4     HOG_5     HOG_6  \\\n",
       "1485  0.158628  0.000000  0.000000  0.000000  0.000000  0.000000  0.000000   \n",
       "2620  0.037935  0.000000  0.000000  0.000000  0.026298  0.000000  0.000000   \n",
       "624   0.000000  0.000000  0.000000  0.000000  0.000000  0.000000  0.000000   \n",
       "2064  0.029575  0.010799  0.002153  0.012303  0.032226  0.000376  0.001213   \n",
       "743   0.143465  0.266407  0.266407  0.266407  0.093926  0.047119  0.015492   \n",
       "\n",
       "         HOG_7     HOG_8     HOG_9  ...  HOG_8090  HOG_8091  HOG_8092  \\\n",
       "1485  0.000000  0.156872  0.180218  ...  0.496588  0.496588  0.026402   \n",
       "2620  0.000000  0.037935  0.018102  ...  0.000000  0.000000  0.000000   \n",
       "624   0.000000  0.000000  0.000000  ...  0.000000  0.000000  0.000000   \n",
       "2064  0.000133  0.014780  0.100381  ...  0.120798  0.026410  0.005916   \n",
       "743   0.037342  0.083198  0.142346  ...  0.141935  0.168858  0.100689   \n",
       "\n",
       "      HOG_8093  HOG_8094  HOG_8095  HOG_8096  HOG_8097  HOG_8098  HOG_8099  \n",
       "1485  0.020954  0.004773  0.010718  0.002488  0.004995  0.006333  0.496588  \n",
       "2620  0.000000  0.000000  0.000000  0.000000  0.000000  0.000000  0.000000  \n",
       "624   0.000000  0.000000  0.000000  0.000000  0.000000  0.000000  0.000000  \n",
       "2064  0.001769  0.000000  0.054480  0.000000  0.003855  0.001288  0.026359  \n",
       "743   0.041478  0.055842  0.149941  0.128183  0.138132  0.206807  0.250292  \n",
       "\n",
       "[5 rows x 8100 columns]"
      ]
     },
     "execution_count": 9,
     "metadata": {},
     "output_type": "execute_result"
    }
   ],
   "source": [
    "unlabeled_df.head()"
   ]
  },
  {
   "cell_type": "markdown",
   "id": "a853d819-3451-45cb-9bd6-47d0c332b615",
   "metadata": {},
   "source": [
    "# 3. Model Builiding"
   ]
  },
  {
   "cell_type": "markdown",
   "id": "4889cf1e-5221-4e68-b540-2d84dfb3c2bf",
   "metadata": {},
   "source": [
    "#### Training Forest and Trees"
   ]
  },
  {
   "cell_type": "code",
   "execution_count": 10,
   "id": "77baba73-f205-4590-8944-90c6a182e2a3",
   "metadata": {},
   "outputs": [],
   "source": [
    "def train_rf(X, n_estimators=100):\n",
    "    rf = RandomForestClassifier(n_estimators=n_estimators, criterion='gini', max_depth=5, oob_score = True, random_state = 0)\n",
    "    rf.fit(X.iloc[:,:-1].values, X.iloc[:,-1].values)\n",
    "    return rf"
   ]
  },
  {
   "cell_type": "code",
   "execution_count": 11,
   "id": "314da907-b559-43d2-9623-cd0d76695135",
   "metadata": {},
   "outputs": [],
   "source": [
    "def train_tree(X):\n",
    "    dt = DecisionTreeClassifier(criterion='gini', max_depth=5, random_state = 0)\n",
    "    dt.fit(X.iloc[:,:-1].values, X.iloc[:,-1].values)\n",
    "    return dt"
   ]
  },
  {
   "cell_type": "markdown",
   "id": "eb6a8b71-0f8c-43af-bb77-984f7129ddf8",
   "metadata": {},
   "source": [
    "# Optimization"
   ]
  },
  {
   "cell_type": "code",
   "execution_count": 12,
   "id": "cc1479c0-fb00-4ffa-91da-e1f6201f0479",
   "metadata": {},
   "outputs": [],
   "source": [
    "def compute_p_star(num_classes):\n",
    "    return np.ones(num_classes) / num_classes"
   ]
  },
  {
   "cell_type": "code",
   "execution_count": 13,
   "id": "d4034d18-9935-4e60-a852-addb1cacecb4",
   "metadata": {},
   "outputs": [],
   "source": [
    "def draw_random_label(p_star, Xu):\n",
    "    num_samples = len(Xu)\n",
    "    labels = np.random.choice(len(p_star), size=num_samples, p=p_star)\n",
    "    return labels"
   ]
  },
  {
   "cell_type": "markdown",
   "id": "7fb6e6ab-691e-4f4a-a157-98808601ff51",
   "metadata": {},
   "source": [
    "### Oob error"
   ]
  },
  {
   "cell_type": "code",
   "execution_count": 14,
   "id": "0beedb34-049b-4460-9bfc-5f2a5a5cc2b6",
   "metadata": {},
   "outputs": [],
   "source": [
    "def oobe(F, X, m):\n",
    "    oob_error = 1 - F.oob_score_\n",
    "    return oob_error"
   ]
  },
  {
   "cell_type": "markdown",
   "id": "1a7027c4-9482-4de1-874d-d1f43a4ace56",
   "metadata": {},
   "source": [
    "### Temperature function "
   ]
  },
  {
   "cell_type": "markdown",
   "id": "94ed8a1d-3818-4819-bbf6-c23cffd75698",
   "metadata": {},
   "source": [
    "### Stopping Criteria"
   ]
  },
  {
   "cell_type": "code",
   "execution_count": 15,
   "id": "38f3b7a5-1fa0-426f-8580-ab193fc044bd",
   "metadata": {},
   "outputs": [],
   "source": [
    "def stopping_condition(emF, e0F, m, max_epochs):\n",
    "    return emF > e0F or m >= max_epochs"
   ]
  },
  {
   "cell_type": "markdown",
   "id": "c3cdf337-930a-495d-87f2-85a74585c480",
   "metadata": {},
   "source": [
    "### Forest Enhancement"
   ]
  },
  {
   "cell_type": "code",
   "execution_count": 16,
   "id": "4c1aabda-8ee2-41f2-b6ff-568750aefee0",
   "metadata": {},
   "outputs": [],
   "source": [
    "def semi_supervised_random_forests(Xl, Xu, num_trees, max_epochs, alpha=1, T=1, cooling_parameter=1, start_value=1):\n",
    "    F = train_rf(Xl, num_trees)\n",
    "    m = 0\n",
    "    e0F = oobe(F, Xl, m)  \n",
    "    emF = 0\n",
    "    while True:\n",
    "        m += 1\n",
    "        p_star = compute_p_star(len(np.unique(Xl.Label)))\n",
    "        for i in range(num_trees):\n",
    "            y_hat_u = draw_random_label(p_star, Xu)\n",
    "            Xu_ = Xu.copy()\n",
    "            Xu_['Label'] = y_hat_u\n",
    "            Xn = pd.concat([Xl, Xu_], ignore_index=True)\n",
    "            F.estimators_[i] = train_tree(Xn)\n",
    "        emF = oobe(F, Xl, m)\n",
    "        if stopping_condition(emF, e0F, m, max_epochs): \n",
    "            break\n",
    "        e0F = emF\n",
    "    return F"
   ]
  },
  {
   "cell_type": "markdown",
   "id": "ff75f96f-3c4e-4f02-b246-f7f1d613fcd6",
   "metadata": {},
   "source": [
    "# 4. Model Training"
   ]
  },
  {
   "cell_type": "code",
   "execution_count": 17,
   "id": "f2a32269-313a-4f3a-9dc4-41b4a695c756",
   "metadata": {},
   "outputs": [
    {
     "ename": "NameError",
     "evalue": "name 'alpha' is not defined",
     "output_type": "error",
     "traceback": [
      "\u001b[1;31m---------------------------------------------------------------------------\u001b[0m",
      "\u001b[1;31mNameError\u001b[0m                                 Traceback (most recent call last)",
      "Cell \u001b[1;32mIn[17], line 7\u001b[0m\n\u001b[0;32m      4\u001b[0m num_trees \u001b[38;5;241m=\u001b[39m \u001b[38;5;241m50\u001b[39m\n\u001b[0;32m      5\u001b[0m max_epochs \u001b[38;5;241m=\u001b[39m \u001b[38;5;241m10\u001b[39m\n\u001b[1;32m----> 7\u001b[0m semi_supervised_forest \u001b[38;5;241m=\u001b[39m semi_supervised_random_forests(Xl, Xu, num_trees, max_epochs, \u001b[43malpha\u001b[49m, T, cooling_parameter, start_value)\n",
      "\u001b[1;31mNameError\u001b[0m: name 'alpha' is not defined"
     ]
    }
   ],
   "source": [
    "Xl = labeled_df1.copy()\n",
    "Xu = unlabeled_df.copy()\n",
    "\n",
    "num_trees = 50\n",
    "max_epochs = 10\n",
    "\n",
    "semi_supervised_forest = semi_supervised_random_forests(Xl, Xu, num_trees, max_epochs, alpha, T, cooling_parameter, start_value)"
   ]
  },
  {
   "cell_type": "markdown",
   "id": "8426d200-4a0c-4ad4-8067-b2732508963c",
   "metadata": {},
   "source": [
    "# 5. Model Evaluation "
   ]
  },
  {
   "cell_type": "code",
   "execution_count": null,
   "id": "f7bfa49b-6379-429c-9eef-a50cabca0b1f",
   "metadata": {},
   "outputs": [],
   "source": [
    "y_pred = semi_supervised_forest.predict(test_df.iloc[:,:-1].values)\n",
    "y_true = test_df.values[:,-1]\n",
    "y_true = y_true.astype(int)\n",
    "y_pred = y_pred.astype(int)"
   ]
  },
  {
   "cell_type": "code",
   "execution_count": null,
   "id": "9d4e21df-462b-4e14-9fbd-e84f3ecba3ed",
   "metadata": {},
   "outputs": [],
   "source": [
    "labels_num = label_encoder.inverse_transform(test_df['Label'])\n",
    "labels = np.unique(labels_num)\n",
    "labels = list(labels)"
   ]
  },
  {
   "cell_type": "code",
   "execution_count": null,
   "id": "f944e73e-6a65-413a-9b45-7e9713cc6b97",
   "metadata": {},
   "outputs": [],
   "source": [
    "def plot_confusion_matrix(y_true, y_pred, label_text, label_num):\n",
    "    cm = confusion_matrix(y_true, y_pred, labels=label_num)\n",
    "    plt.figure(figsize=(10, 8))\n",
    "    sns.heatmap(cm, annot=True, fmt=\"d\", cmap=\"Blues\", xticklabels=label_text, yticklabels=label_text)\n",
    "    plt.xlabel('Predicted labels')\n",
    "    plt.ylabel('True labels')\n",
    "    plt.title('Confusion Matrix for Semi-supervised Random Forest')\n",
    "    plt.show()\n",
    "\n",
    "plot_confusion_matrix(y_true, y_pred, labels, np.unique(train_df.values[:,-1]))"
   ]
  },
  {
   "cell_type": "code",
   "execution_count": null,
   "id": "ee59e945-ff08-40e1-a413-458f62d1475f",
   "metadata": {},
   "outputs": [],
   "source": [
    "def metrics(y_true, y_pred):\n",
    "\n",
    "    confusion_matrix = np.zeros((y_true.max() + 1, y_true.max() + 1))\n",
    "    for i in range(len(y_true)):\n",
    "        confusion_matrix[y_true[i], y_pred[i]] += 1\n",
    "\n",
    "    # precision and recall\n",
    "    precision = []\n",
    "    recall = []\n",
    "    for i in range(y_true.max() + 1):\n",
    "        tp = confusion_matrix[i, i]\n",
    "        fp = np.sum(confusion_matrix[:, i]) - tp\n",
    "        fn = np.sum(confusion_matrix[i, :]) - tp\n",
    "        precision.append(tp / (tp + fp))\n",
    "        recall.append(tp / (tp + fn))\n",
    "    precisions = np.mean(precision)\n",
    "    recalls = np.mean(recall)\n",
    "\n",
    "    # Calculating accuracy\n",
    "    accuracy = np.trace(confusion_matrix) / np.sum(confusion_matrix)\n",
    "\n",
    "    # Calculating F1 score\n",
    "    f1_score = 2 * (precisions * recalls) / (precisions + recalls) if (precisions + recalls) != 0 else 0\n",
    "\n",
    "    return precisions, recalls, precision, recall, accuracy, f1_score\n",
    "\n",
    "precision , recall, precision_list, recall_list, accuracy, f1_score = metrics(y_true, y_pred)"
   ]
  },
  {
   "cell_type": "code",
   "execution_count": null,
   "id": "3808d0c7-8f4c-437c-9f86-5e81f3bc86b6",
   "metadata": {},
   "outputs": [],
   "source": [
    "test_size = len(test_df)\n",
    "data = {\n",
    "    'Dataset': ['Caltech-101'],\n",
    "    'Test Size': [test_size]\n",
    "}\n",
    "\n",
    "df = pd.DataFrame(data)"
   ]
  },
  {
   "cell_type": "code",
   "execution_count": null,
   "id": "2a78371f-0086-4f17-b10c-9e646c5a638d",
   "metadata": {},
   "outputs": [],
   "source": [
    "df['Precision'] = precision\n",
    "df['Recall'] = recall\n",
    "df['Accuracy'] = accuracy\n",
    "df['F1 Score'] = f1_score\n",
    "df"
   ]
  },
  {
   "cell_type": "code",
   "execution_count": null,
   "id": "d0feed39-eb3e-461e-a6b3-66b6cd1434d8",
   "metadata": {},
   "outputs": [],
   "source": [
    "df2 = pd.DataFrame()\n",
    "df2[\"Category\"] = labels\n",
    "df2[\"Precision\"] = precision_list\n",
    "df2[\"Recall\"] = recall_list\n",
    "df2"
   ]
  }
 ],
 "metadata": {
  "kernelspec": {
   "display_name": "ssrf",
   "language": "python",
   "name": "ssrf"
  },
  "language_info": {
   "codemirror_mode": {
    "name": "ipython",
    "version": 3
   },
   "file_extension": ".py",
   "mimetype": "text/x-python",
   "name": "python",
   "nbconvert_exporter": "python",
   "pygments_lexer": "ipython3",
   "version": "3.11.5"
  }
 },
 "nbformat": 4,
 "nbformat_minor": 5
}
