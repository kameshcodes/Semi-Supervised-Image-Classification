{
 "cells": [
  {
   "cell_type": "markdown",
   "id": "5c6b5e96-8196-4ff8-ba21-50475bcae992",
   "metadata": {},
   "source": [
    "# 1. Import Libraries "
   ]
  },
  {
   "cell_type": "code",
   "execution_count": 1,
   "id": "2fed71cf-ddbb-4a76-844a-cd95591af346",
   "metadata": {},
   "outputs": [],
   "source": [
    "import os\n",
    "import numpy as np\n",
    "import pandas as pd\n",
    "import seaborn as sns\n",
    "from PIL import Image\n",
    "import matplotlib.pyplot as plt\n",
    "from sklearn.metrics import confusion_matrix\n",
    "from sklearn.ensemble import RandomForestClassifier\n",
    "from sklearn.tree import DecisionTreeClassifier\n",
    "\n",
    "%load_ext autoreload\n",
    "%autoreload 2"
   ]
  },
  {
   "cell_type": "code",
   "execution_count": 2,
   "id": "76740a82-8ab9-4b7e-a69a-2e4ca2067410",
   "metadata": {},
   "outputs": [
    {
     "name": "stdout",
     "output_type": "stream",
     "text": [
      "Number of training images: 2641\n",
      "Number of test images: 294\n"
     ]
    }
   ],
   "source": [
    "train_csv_path = r'..\\data\\train_test_csv\\train_data.csv'\n",
    "test_csv_path = r'..\\data\\train_test_csv\\test_data.csv'\n",
    "train_df = pd.read_csv(train_csv_path)\n",
    "test_df = pd.read_csv(test_csv_path)\n",
    "\n",
    "# Display the number of imported images\n",
    "print(f\"Number of training images: {len(train_df)}\")\n",
    "print(f\"Number of test images: {len(test_df)}\")"
   ]
  },
  {
   "cell_type": "code",
   "execution_count": 3,
   "id": "8aa7032c-9e1b-4e7d-b776-d507272daa0e",
   "metadata": {},
   "outputs": [
    {
     "data": {
      "text/plain": [
       "Label\n",
       "airplanes            720\n",
       "Motorbikes           718\n",
       "BACKGROUND_Google    420\n",
       "Faces_easy           392\n",
       "Faces                391\n",
       "Name: count, dtype: int64"
      ]
     },
     "execution_count": 3,
     "metadata": {},
     "output_type": "execute_result"
    }
   ],
   "source": [
    "train_df.Label.value_counts()"
   ]
  },
  {
   "cell_type": "code",
   "execution_count": 4,
   "id": "f444c33e-cc98-4003-8d74-e10a17717453",
   "metadata": {},
   "outputs": [
    {
     "data": {
      "text/plain": [
       "Label\n",
       "Motorbikes           80\n",
       "airplanes            80\n",
       "BACKGROUND_Google    47\n",
       "Faces                44\n",
       "Faces_easy           43\n",
       "Name: count, dtype: int64"
      ]
     },
     "execution_count": 4,
     "metadata": {},
     "output_type": "execute_result"
    }
   ],
   "source": [
    "test_df.Label.value_counts()"
   ]
  },
  {
   "cell_type": "code",
   "execution_count": 5,
   "id": "196e8a19-27d5-40ff-b0a9-10a561b0c1f8",
   "metadata": {},
   "outputs": [
    {
     "data": {
      "text/html": [
       "<div>\n",
       "<style scoped>\n",
       "    .dataframe tbody tr th:only-of-type {\n",
       "        vertical-align: middle;\n",
       "    }\n",
       "\n",
       "    .dataframe tbody tr th {\n",
       "        vertical-align: top;\n",
       "    }\n",
       "\n",
       "    .dataframe thead th {\n",
       "        text-align: right;\n",
       "    }\n",
       "</style>\n",
       "<table border=\"1\" class=\"dataframe\">\n",
       "  <thead>\n",
       "    <tr style=\"text-align: right;\">\n",
       "      <th></th>\n",
       "      <th>HOG_0</th>\n",
       "      <th>HOG_1</th>\n",
       "      <th>HOG_2</th>\n",
       "      <th>HOG_3</th>\n",
       "      <th>HOG_4</th>\n",
       "      <th>HOG_5</th>\n",
       "      <th>HOG_6</th>\n",
       "      <th>HOG_7</th>\n",
       "      <th>HOG_8</th>\n",
       "      <th>HOG_9</th>\n",
       "      <th>...</th>\n",
       "      <th>HOG_8091</th>\n",
       "      <th>HOG_8092</th>\n",
       "      <th>HOG_8093</th>\n",
       "      <th>HOG_8094</th>\n",
       "      <th>HOG_8095</th>\n",
       "      <th>HOG_8096</th>\n",
       "      <th>HOG_8097</th>\n",
       "      <th>HOG_8098</th>\n",
       "      <th>HOG_8099</th>\n",
       "      <th>Label</th>\n",
       "    </tr>\n",
       "  </thead>\n",
       "  <tbody>\n",
       "    <tr>\n",
       "      <th>0</th>\n",
       "      <td>0.027177</td>\n",
       "      <td>0.025653</td>\n",
       "      <td>0.037031</td>\n",
       "      <td>0.089839</td>\n",
       "      <td>0.168321</td>\n",
       "      <td>0.174550</td>\n",
       "      <td>0.248641</td>\n",
       "      <td>0.248641</td>\n",
       "      <td>0.171540</td>\n",
       "      <td>0.015715</td>\n",
       "      <td>...</td>\n",
       "      <td>0.030575</td>\n",
       "      <td>0.015245</td>\n",
       "      <td>0.034649</td>\n",
       "      <td>0.141972</td>\n",
       "      <td>0.307208</td>\n",
       "      <td>0.307208</td>\n",
       "      <td>0.157726</td>\n",
       "      <td>0.040761</td>\n",
       "      <td>0.040718</td>\n",
       "      <td>BACKGROUND_Google</td>\n",
       "    </tr>\n",
       "    <tr>\n",
       "      <th>1</th>\n",
       "      <td>0.235837</td>\n",
       "      <td>0.038368</td>\n",
       "      <td>0.031238</td>\n",
       "      <td>0.026915</td>\n",
       "      <td>0.073421</td>\n",
       "      <td>0.011923</td>\n",
       "      <td>0.004732</td>\n",
       "      <td>0.000100</td>\n",
       "      <td>0.184045</td>\n",
       "      <td>0.337206</td>\n",
       "      <td>...</td>\n",
       "      <td>0.117988</td>\n",
       "      <td>0.004348</td>\n",
       "      <td>0.007640</td>\n",
       "      <td>0.002928</td>\n",
       "      <td>0.005445</td>\n",
       "      <td>0.002255</td>\n",
       "      <td>0.010032</td>\n",
       "      <td>0.004228</td>\n",
       "      <td>0.122178</td>\n",
       "      <td>Motorbikes</td>\n",
       "    </tr>\n",
       "    <tr>\n",
       "      <th>2</th>\n",
       "      <td>0.140965</td>\n",
       "      <td>0.000000</td>\n",
       "      <td>0.000000</td>\n",
       "      <td>0.000000</td>\n",
       "      <td>0.001747</td>\n",
       "      <td>0.000000</td>\n",
       "      <td>0.000000</td>\n",
       "      <td>0.000000</td>\n",
       "      <td>0.141014</td>\n",
       "      <td>0.159202</td>\n",
       "      <td>...</td>\n",
       "      <td>0.364948</td>\n",
       "      <td>0.178828</td>\n",
       "      <td>0.092794</td>\n",
       "      <td>0.067782</td>\n",
       "      <td>0.066389</td>\n",
       "      <td>0.040597</td>\n",
       "      <td>0.156272</td>\n",
       "      <td>0.189141</td>\n",
       "      <td>0.364948</td>\n",
       "      <td>airplanes</td>\n",
       "    </tr>\n",
       "    <tr>\n",
       "      <th>3</th>\n",
       "      <td>0.382552</td>\n",
       "      <td>0.016438</td>\n",
       "      <td>0.007117</td>\n",
       "      <td>0.002574</td>\n",
       "      <td>0.015769</td>\n",
       "      <td>0.002730</td>\n",
       "      <td>0.017733</td>\n",
       "      <td>0.050059</td>\n",
       "      <td>0.382552</td>\n",
       "      <td>0.382552</td>\n",
       "      <td>...</td>\n",
       "      <td>0.349882</td>\n",
       "      <td>0.008987</td>\n",
       "      <td>0.003086</td>\n",
       "      <td>0.000883</td>\n",
       "      <td>0.029269</td>\n",
       "      <td>0.000000</td>\n",
       "      <td>0.008355</td>\n",
       "      <td>0.011984</td>\n",
       "      <td>0.349882</td>\n",
       "      <td>Motorbikes</td>\n",
       "    </tr>\n",
       "    <tr>\n",
       "      <th>4</th>\n",
       "      <td>0.305484</td>\n",
       "      <td>0.080676</td>\n",
       "      <td>0.015355</td>\n",
       "      <td>0.063711</td>\n",
       "      <td>0.072808</td>\n",
       "      <td>0.034462</td>\n",
       "      <td>0.012741</td>\n",
       "      <td>0.043839</td>\n",
       "      <td>0.305484</td>\n",
       "      <td>0.305484</td>\n",
       "      <td>...</td>\n",
       "      <td>0.266868</td>\n",
       "      <td>0.034736</td>\n",
       "      <td>0.031162</td>\n",
       "      <td>0.232690</td>\n",
       "      <td>0.239519</td>\n",
       "      <td>0.225903</td>\n",
       "      <td>0.266868</td>\n",
       "      <td>0.225866</td>\n",
       "      <td>0.266868</td>\n",
       "      <td>airplanes</td>\n",
       "    </tr>\n",
       "  </tbody>\n",
       "</table>\n",
       "<p>5 rows × 8101 columns</p>\n",
       "</div>"
      ],
      "text/plain": [
       "      HOG_0     HOG_1     HOG_2     HOG_3     HOG_4     HOG_5     HOG_6  \\\n",
       "0  0.027177  0.025653  0.037031  0.089839  0.168321  0.174550  0.248641   \n",
       "1  0.235837  0.038368  0.031238  0.026915  0.073421  0.011923  0.004732   \n",
       "2  0.140965  0.000000  0.000000  0.000000  0.001747  0.000000  0.000000   \n",
       "3  0.382552  0.016438  0.007117  0.002574  0.015769  0.002730  0.017733   \n",
       "4  0.305484  0.080676  0.015355  0.063711  0.072808  0.034462  0.012741   \n",
       "\n",
       "      HOG_7     HOG_8     HOG_9  ...  HOG_8091  HOG_8092  HOG_8093  HOG_8094  \\\n",
       "0  0.248641  0.171540  0.015715  ...  0.030575  0.015245  0.034649  0.141972   \n",
       "1  0.000100  0.184045  0.337206  ...  0.117988  0.004348  0.007640  0.002928   \n",
       "2  0.000000  0.141014  0.159202  ...  0.364948  0.178828  0.092794  0.067782   \n",
       "3  0.050059  0.382552  0.382552  ...  0.349882  0.008987  0.003086  0.000883   \n",
       "4  0.043839  0.305484  0.305484  ...  0.266868  0.034736  0.031162  0.232690   \n",
       "\n",
       "   HOG_8095  HOG_8096  HOG_8097  HOG_8098  HOG_8099              Label  \n",
       "0  0.307208  0.307208  0.157726  0.040761  0.040718  BACKGROUND_Google  \n",
       "1  0.005445  0.002255  0.010032  0.004228  0.122178         Motorbikes  \n",
       "2  0.066389  0.040597  0.156272  0.189141  0.364948          airplanes  \n",
       "3  0.029269  0.000000  0.008355  0.011984  0.349882         Motorbikes  \n",
       "4  0.239519  0.225903  0.266868  0.225866  0.266868          airplanes  \n",
       "\n",
       "[5 rows x 8101 columns]"
      ]
     },
     "execution_count": 5,
     "metadata": {},
     "output_type": "execute_result"
    }
   ],
   "source": [
    "train_df.head()"
   ]
  },
  {
   "cell_type": "code",
   "execution_count": 6,
   "id": "759f8efd-7526-45e5-bd26-a8468d04f24c",
   "metadata": {},
   "outputs": [],
   "source": [
    "from sklearn.preprocessing import LabelEncoder\n",
    "\n",
    "label_encoder = LabelEncoder()\n",
    "train_df['Label'] = label_encoder.fit_transform(train_df['Label'])\n",
    "test_df['Label'] = label_encoder.transform(test_df['Label'])"
   ]
  },
  {
   "cell_type": "markdown",
   "id": "07bf8566-ffe3-408d-b788-d9dea57fa09f",
   "metadata": {},
   "source": [
    "# Creating Labelled Unlabelled Data"
   ]
  },
  {
   "cell_type": "code",
   "execution_count": 7,
   "id": "810bb682-3bcc-4ab5-9eb9-918b681fa3f9",
   "metadata": {},
   "outputs": [],
   "source": [
    "from sklearn.model_selection import train_test_split\n",
    "\n",
    "def partition_and_make_unlabeled(df, test_size=0.5, random_state=None):\n",
    "    labeled_df1, labeled_df2 = train_test_split(df, test_size=test_size, stratify=df['Label'], random_state=random_state)\n",
    "    unlabeled_df = labeled_df2.drop('Label', axis=1)\n",
    "    \n",
    "    return labeled_df1, labeled_df2, unlabeled_df"
   ]
  },
  {
   "cell_type": "code",
   "execution_count": 8,
   "id": "ef0bdc2b-022a-4695-a185-f4db2cd5ccd9",
   "metadata": {},
   "outputs": [],
   "source": [
    "labeled_df1, labeled_df2, unlabeled_df = partition_and_make_unlabeled(train_df, test_size=0.80, random_state=42)"
   ]
  },
  {
   "cell_type": "code",
   "execution_count": 9,
   "id": "b0ee3d0e-4922-41d6-bc18-71081e025d99",
   "metadata": {},
   "outputs": [
    {
     "name": "stdout",
     "output_type": "stream",
     "text": [
      "Size of labelled df: 132\n",
      "Size of unlabelled df: 2509\n"
     ]
    }
   ],
   "source": [
    "print(f\"Size of labelled df: {len(labeled_df1)}\")\n",
    "print(f\"Size of unlabelled df: {len(unlabeled_df)}\")"
   ]
  },
  {
   "cell_type": "markdown",
   "id": "a853d819-3451-45cb-9bd6-47d0c332b615",
   "metadata": {},
   "source": [
    "# Model Builiding"
   ]
  },
  {
   "cell_type": "markdown",
   "id": "4889cf1e-5221-4e68-b540-2d84dfb3c2bf",
   "metadata": {},
   "source": [
    "#### Training Forest and Trees"
   ]
  },
  {
   "cell_type": "code",
   "execution_count": 10,
   "id": "77baba73-f205-4590-8944-90c6a182e2a3",
   "metadata": {},
   "outputs": [],
   "source": [
    "def train_rf(X, n_estimators=10):\n",
    "    rf = RandomForestClassifier(n_estimators=n_estimators, criterion='gini', max_depth=5, oob_score = True, random_state = 0)\n",
    "    rf.fit(X.iloc[:,:-1].values, X.iloc[:,-1].values)\n",
    "    return rf"
   ]
  },
  {
   "cell_type": "markdown",
   "id": "ff75f96f-3c4e-4f02-b246-f7f1d613fcd6",
   "metadata": {},
   "source": [
    "# Model Training"
   ]
  },
  {
   "cell_type": "code",
   "execution_count": 11,
   "id": "f2a32269-313a-4f3a-9dc4-41b4a695c756",
   "metadata": {},
   "outputs": [],
   "source": [
    "forest = train_rf(labeled_df1, n_estimators=50)"
   ]
  },
  {
   "cell_type": "markdown",
   "id": "8426d200-4a0c-4ad4-8067-b2732508963c",
   "metadata": {},
   "source": [
    "# Model Evaluation "
   ]
  },
  {
   "cell_type": "code",
   "execution_count": 12,
   "id": "f7bfa49b-6379-429c-9eef-a50cabca0b1f",
   "metadata": {},
   "outputs": [],
   "source": [
    "y_pred = forest.predict(test_df.iloc[:,:-1].values)\n",
    "y_true = test_df.values[:,-1]\n",
    "y_true = y_true.astype(int)\n",
    "y_pred = y_pred.astype(int)"
   ]
  },
  {
   "cell_type": "code",
   "execution_count": 13,
   "id": "9d4e21df-462b-4e14-9fbd-e84f3ecba3ed",
   "metadata": {},
   "outputs": [],
   "source": [
    "labels_num = label_encoder.inverse_transform(test_df['Label'])\n",
    "labels = np.unique(labels_num)\n",
    "labels = list(labels)"
   ]
  },
  {
   "cell_type": "code",
   "execution_count": 14,
   "id": "f944e73e-6a65-413a-9b45-7e9713cc6b97",
   "metadata": {},
   "outputs": [
    {
     "data": {
      "image/png": "[encoded data removed]",
      "text/plain": [
       "<Figure size 1000x800 with 2 Axes>"
      ]
     },
     "metadata": {},
     "output_type": "display_data"
    }
   ],
   "source": [
    "def plot_confusion_matrix(y_true, y_pred, label_text, label_num):\n",
    "    cm = confusion_matrix(y_true, y_pred, labels=label_num)\n",
    "    plt.figure(figsize=(10, 8))\n",
    "    sns.heatmap(cm, annot=True, fmt=\"d\", cmap=\"Blues\", xticklabels=label_text, yticklabels=label_text)\n",
    "    plt.xlabel('Predicted labels')\n",
    "    plt.ylabel('True labels')\n",
    "    plt.title('Confusion Matrix for Random Forest')\n",
    "    plt.show()\n",
    "\n",
    "plot_confusion_matrix(y_true, y_pred, labels, np.unique(train_df.values[:,-1]))"
   ]
  },
  {
   "cell_type": "code",
   "execution_count": 15,
   "id": "ee59e945-ff08-40e1-a413-458f62d1475f",
   "metadata": {},
   "outputs": [],
   "source": [
    "def metrics(y_true, y_pred):\n",
    "\n",
    "    confusion_matrix = np.zeros((y_true.max() + 1, y_true.max() + 1))\n",
    "    for i in range(len(y_true)):\n",
    "        confusion_matrix[y_true[i], y_pred[i]] += 1\n",
    "\n",
    "    # precision and recall\n",
    "    precision = []\n",
    "    recall = []\n",
    "    for i in range(y_true.max() + 1):\n",
    "        tp = confusion_matrix[i, i]\n",
    "        fp = np.sum(confusion_matrix[:, i]) - tp\n",
    "        fn = np.sum(confusion_matrix[i, :]) - tp\n",
    "        precision.append(tp / (tp + fp))\n",
    "        recall.append(tp / (tp + fn))\n",
    "    precisions = np.mean(precision)\n",
    "    recalls = np.mean(recall)\n",
    "\n",
    "    # Calculating accuracy\n",
    "    accuracy = np.trace(confusion_matrix) / np.sum(confusion_matrix)\n",
    "\n",
    "    # Calculating F1 score\n",
    "    f1_score = 2 * (precisions * recalls) / (precisions + recalls) if (precisions + recalls) != 0 else 0\n",
    "\n",
    "    return precisions, recalls, precision, recall, accuracy, f1_score\n",
    "\n",
    "precision , recall, precision_list, recall_list, accuracy, f1_score = metrics(y_true, y_pred)"
   ]
  },
  {
   "cell_type": "code",
   "execution_count": 16,
   "id": "3808d0c7-8f4c-437c-9f86-5e81f3bc86b6",
   "metadata": {},
   "outputs": [],
   "source": [
    "test_size = len(test_df)\n",
    "data = {\n",
    "    'Dataset': ['Caltech-101'],\n",
    "    'Test Size': [test_size]\n",
    "}\n",
    "\n",
    "df = pd.DataFrame(data)"
   ]
  },
  {
   "cell_type": "code",
   "execution_count": 17,
   "id": "2a78371f-0086-4f17-b10c-9e646c5a638d",
   "metadata": {},
   "outputs": [
    {
     "data": {
      "text/html": [
       "<div>\n",
       "<style scoped>\n",
       "    .dataframe tbody tr th:only-of-type {\n",
       "        vertical-align: middle;\n",
       "    }\n",
       "\n",
       "    .dataframe tbody tr th {\n",
       "        vertical-align: top;\n",
       "    }\n",
       "\n",
       "    .dataframe thead th {\n",
       "        text-align: right;\n",
       "    }\n",
       "</style>\n",
       "<table border=\"1\" class=\"dataframe\">\n",
       "  <thead>\n",
       "    <tr style=\"text-align: right;\">\n",
       "      <th></th>\n",
       "      <th>Dataset</th>\n",
       "      <th>Test Size</th>\n",
       "      <th>Precision</th>\n",
       "      <th>Recall</th>\n",
       "      <th>Accuracy</th>\n",
       "      <th>F1 Score</th>\n",
       "    </tr>\n",
       "  </thead>\n",
       "  <tbody>\n",
       "    <tr>\n",
       "      <th>0</th>\n",
       "      <td>Caltech-101</td>\n",
       "      <td>294</td>\n",
       "      <td>0.873275</td>\n",
       "      <td>0.834159</td>\n",
       "      <td>0.857143</td>\n",
       "      <td>0.853269</td>\n",
       "    </tr>\n",
       "  </tbody>\n",
       "</table>\n",
       "</div>"
      ],
      "text/plain": [
       "       Dataset  Test Size  Precision    Recall  Accuracy  F1 Score\n",
       "0  Caltech-101        294   0.873275  0.834159  0.857143  0.853269"
      ]
     },
     "execution_count": 17,
     "metadata": {},
     "output_type": "execute_result"
    }
   ],
   "source": [
    "df['Precision'] = precision\n",
    "df['Recall'] = recall\n",
    "df['Accuracy'] = accuracy\n",
    "df['F1 Score'] = f1_score\n",
    "df"
   ]
  },
  {
   "cell_type": "code",
   "execution_count": 18,
   "id": "07c95846-56a9-47b6-b109-6e8f2f0672f4",
   "metadata": {},
   "outputs": [
    {
     "data": {
      "text/html": [
       "<div>\n",
       "<style scoped>\n",
       "    .dataframe tbody tr th:only-of-type {\n",
       "        vertical-align: middle;\n",
       "    }\n",
       "\n",
       "    .dataframe tbody tr th {\n",
       "        vertical-align: top;\n",
       "    }\n",
       "\n",
       "    .dataframe thead th {\n",
       "        text-align: right;\n",
       "    }\n",
       "</style>\n",
       "<table border=\"1\" class=\"dataframe\">\n",
       "  <thead>\n",
       "    <tr style=\"text-align: right;\">\n",
       "      <th></th>\n",
       "      <th>Category</th>\n",
       "      <th>Precision</th>\n",
       "      <th>Recall</th>\n",
       "    </tr>\n",
       "  </thead>\n",
       "  <tbody>\n",
       "    <tr>\n",
       "      <th>0</th>\n",
       "      <td>BACKGROUND_Google</td>\n",
       "      <td>0.850000</td>\n",
       "      <td>0.361702</td>\n",
       "    </tr>\n",
       "    <tr>\n",
       "      <th>1</th>\n",
       "      <td>Faces</td>\n",
       "      <td>0.869565</td>\n",
       "      <td>0.909091</td>\n",
       "    </tr>\n",
       "    <tr>\n",
       "      <th>2</th>\n",
       "      <td>Faces_easy</td>\n",
       "      <td>0.977273</td>\n",
       "      <td>1.000000</td>\n",
       "    </tr>\n",
       "    <tr>\n",
       "      <th>3</th>\n",
       "      <td>Motorbikes</td>\n",
       "      <td>0.914634</td>\n",
       "      <td>0.937500</td>\n",
       "    </tr>\n",
       "    <tr>\n",
       "      <th>4</th>\n",
       "      <td>airplanes</td>\n",
       "      <td>0.754902</td>\n",
       "      <td>0.962500</td>\n",
       "    </tr>\n",
       "  </tbody>\n",
       "</table>\n",
       "</div>"
      ],
      "text/plain": [
       "            Category  Precision    Recall\n",
       "0  BACKGROUND_Google   0.850000  0.361702\n",
       "1              Faces   0.869565  0.909091\n",
       "2         Faces_easy   0.977273  1.000000\n",
       "3         Motorbikes   0.914634  0.937500\n",
       "4          airplanes   0.754902  0.962500"
      ]
     },
     "execution_count": 18,
     "metadata": {},
     "output_type": "execute_result"
    }
   ],
   "source": [
    "df2 = pd.DataFrame()\n",
    "df2[\"Category\"] = labels\n",
    "df2[\"Precision\"] = precision_list\n",
    "df2[\"Recall\"] = recall_list\n",
    "df2"
   ]
  }
 ],
 "metadata": {
  "kernelspec": {
   "display_name": "ssrf",
   "language": "python",
   "name": "ssrf"
  },
  "language_info": {
   "codemirror_mode": {
    "name": "ipython",
    "version": 3
   },
   "file_extension": ".py",
   "mimetype": "text/x-python",
   "name": "python",
   "nbconvert_exporter": "python",
   "pygments_lexer": "ipython3",
   "version": "3.11.5"
  }
 },
 "nbformat": 4,
 "nbformat_minor": 5
}
