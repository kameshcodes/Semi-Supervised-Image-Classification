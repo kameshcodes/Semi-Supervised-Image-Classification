{
 "cells": [
  {
   "cell_type": "markdown",
   "id": "5c6b5e96-8196-4ff8-ba21-50475bcae992",
   "metadata": {},
   "source": [
    "# 1. Import Libraries "
   ]
  },
  {
   "cell_type": "code",
   "execution_count": 1,
   "id": "2fed71cf-ddbb-4a76-844a-cd95591af346",
   "metadata": {},
   "outputs": [],
   "source": [
    "import os\n",
    "import numpy as np\n",
    "import pandas as pd\n",
    "import seaborn as sns\n",
    "from PIL import Image\n",
    "import matplotlib.pyplot as plt\n",
    "from sklearn.metrics import confusion_matrix\n",
    "from sklearn.ensemble import RandomForestClassifier\n",
    "from sklearn.tree import DecisionTreeClassifier\n",
    "\n",
    "%load_ext autoreload\n",
    "%autoreload 2"
   ]
  },
  {
   "cell_type": "code",
   "execution_count": 2,
   "id": "76740a82-8ab9-4b7e-a69a-2e4ca2067410",
   "metadata": {},
   "outputs": [
    {
     "name": "stdout",
     "output_type": "stream",
     "text": [
      "Number of training images: 2641\n",
      "Number of test images: 294\n"
     ]
    }
   ],
   "source": [
    "train_csv_path = r'..\\data\\train_test_csv\\train_data_hog.csv'\n",
    "test_csv_path = r'..\\data\\train_test_csv\\test_data_hog.csv'\n",
    "train_df = pd.read_csv(train_csv_path)\n",
    "test_df = pd.read_csv(test_csv_path)\n",
    "\n",
    "# Display the number of imported images\n",
    "print(f\"Number of training images: {len(train_df)}\")\n",
    "print(f\"Number of test images: {len(test_df)}\")"
   ]
  },
  {
   "cell_type": "code",
   "execution_count": 3,
   "id": "8aa7032c-9e1b-4e7d-b776-d507272daa0e",
   "metadata": {},
   "outputs": [
    {
     "data": {
      "text/plain": [
       "Label\n",
       "airplanes            720\n",
       "Motorbikes           718\n",
       "BACKGROUND_Google    420\n",
       "Faces_easy           392\n",
       "Faces                391\n",
       "Name: count, dtype: int64"
      ]
     },
     "execution_count": 3,
     "metadata": {},
     "output_type": "execute_result"
    }
   ],
   "source": [
    "train_df.Label.value_counts()"
   ]
  },
  {
   "cell_type": "code",
   "execution_count": 4,
   "id": "f444c33e-cc98-4003-8d74-e10a17717453",
   "metadata": {},
   "outputs": [
    {
     "data": {
      "text/plain": [
       "Label\n",
       "Motorbikes           80\n",
       "airplanes            80\n",
       "BACKGROUND_Google    47\n",
       "Faces                44\n",
       "Faces_easy           43\n",
       "Name: count, dtype: int64"
      ]
     },
     "execution_count": 4,
     "metadata": {},
     "output_type": "execute_result"
    }
   ],
   "source": [
    "test_df.Label.value_counts()"
   ]
  },
  {
   "cell_type": "code",
   "execution_count": 5,
   "id": "196e8a19-27d5-40ff-b0a9-10a561b0c1f8",
   "metadata": {},
   "outputs": [
    {
     "data": {
      "text/html": [
       "<div>\n",
       "<style scoped>\n",
       "    .dataframe tbody tr th:only-of-type {\n",
       "        vertical-align: middle;\n",
       "    }\n",
       "\n",
       "    .dataframe tbody tr th {\n",
       "        vertical-align: top;\n",
       "    }\n",
       "\n",
       "    .dataframe thead th {\n",
       "        text-align: right;\n",
       "    }\n",
       "</style>\n",
       "<table border=\"1\" class=\"dataframe\">\n",
       "  <thead>\n",
       "    <tr style=\"text-align: right;\">\n",
       "      <th></th>\n",
       "      <th>HOG_0</th>\n",
       "      <th>HOG_1</th>\n",
       "      <th>HOG_2</th>\n",
       "      <th>HOG_3</th>\n",
       "      <th>HOG_4</th>\n",
       "      <th>HOG_5</th>\n",
       "      <th>HOG_6</th>\n",
       "      <th>HOG_7</th>\n",
       "      <th>HOG_8</th>\n",
       "      <th>HOG_9</th>\n",
       "      <th>...</th>\n",
       "      <th>HOG_8091</th>\n",
       "      <th>HOG_8092</th>\n",
       "      <th>HOG_8093</th>\n",
       "      <th>HOG_8094</th>\n",
       "      <th>HOG_8095</th>\n",
       "      <th>HOG_8096</th>\n",
       "      <th>HOG_8097</th>\n",
       "      <th>HOG_8098</th>\n",
       "      <th>HOG_8099</th>\n",
       "      <th>Label</th>\n",
       "    </tr>\n",
       "  </thead>\n",
       "  <tbody>\n",
       "    <tr>\n",
       "      <th>0</th>\n",
       "      <td>0.038366</td>\n",
       "      <td>0.034774</td>\n",
       "      <td>0.031683</td>\n",
       "      <td>0.103240</td>\n",
       "      <td>0.138038</td>\n",
       "      <td>0.176418</td>\n",
       "      <td>0.246472</td>\n",
       "      <td>0.246472</td>\n",
       "      <td>0.158125</td>\n",
       "      <td>0.025145</td>\n",
       "      <td>...</td>\n",
       "      <td>0.035912</td>\n",
       "      <td>0.016476</td>\n",
       "      <td>0.035359</td>\n",
       "      <td>0.147580</td>\n",
       "      <td>0.306789</td>\n",
       "      <td>0.306789</td>\n",
       "      <td>0.164016</td>\n",
       "      <td>0.039841</td>\n",
       "      <td>0.038114</td>\n",
       "      <td>BACKGROUND_Google</td>\n",
       "    </tr>\n",
       "    <tr>\n",
       "      <th>1</th>\n",
       "      <td>0.241152</td>\n",
       "      <td>0.037368</td>\n",
       "      <td>0.034159</td>\n",
       "      <td>0.025061</td>\n",
       "      <td>0.070951</td>\n",
       "      <td>0.014410</td>\n",
       "      <td>0.003767</td>\n",
       "      <td>0.001928</td>\n",
       "      <td>0.178829</td>\n",
       "      <td>0.337243</td>\n",
       "      <td>...</td>\n",
       "      <td>0.118079</td>\n",
       "      <td>0.005067</td>\n",
       "      <td>0.007300</td>\n",
       "      <td>0.002927</td>\n",
       "      <td>0.005443</td>\n",
       "      <td>0.003690</td>\n",
       "      <td>0.009717</td>\n",
       "      <td>0.003888</td>\n",
       "      <td>0.121595</td>\n",
       "      <td>Motorbikes</td>\n",
       "    </tr>\n",
       "    <tr>\n",
       "      <th>2</th>\n",
       "      <td>0.140515</td>\n",
       "      <td>0.000000</td>\n",
       "      <td>0.000000</td>\n",
       "      <td>0.000000</td>\n",
       "      <td>0.000891</td>\n",
       "      <td>0.000000</td>\n",
       "      <td>0.000000</td>\n",
       "      <td>0.000000</td>\n",
       "      <td>0.140550</td>\n",
       "      <td>0.159198</td>\n",
       "      <td>...</td>\n",
       "      <td>0.375181</td>\n",
       "      <td>0.183314</td>\n",
       "      <td>0.098506</td>\n",
       "      <td>0.060341</td>\n",
       "      <td>0.084255</td>\n",
       "      <td>0.042076</td>\n",
       "      <td>0.144795</td>\n",
       "      <td>0.156756</td>\n",
       "      <td>0.375181</td>\n",
       "      <td>airplanes</td>\n",
       "    </tr>\n",
       "    <tr>\n",
       "      <th>3</th>\n",
       "      <td>0.379993</td>\n",
       "      <td>0.030309</td>\n",
       "      <td>0.008011</td>\n",
       "      <td>0.000308</td>\n",
       "      <td>0.014956</td>\n",
       "      <td>0.006318</td>\n",
       "      <td>0.015724</td>\n",
       "      <td>0.045974</td>\n",
       "      <td>0.379993</td>\n",
       "      <td>0.379993</td>\n",
       "      <td>...</td>\n",
       "      <td>0.349345</td>\n",
       "      <td>0.023273</td>\n",
       "      <td>0.001012</td>\n",
       "      <td>0.000892</td>\n",
       "      <td>0.031166</td>\n",
       "      <td>0.000000</td>\n",
       "      <td>0.000023</td>\n",
       "      <td>0.008693</td>\n",
       "      <td>0.349345</td>\n",
       "      <td>Motorbikes</td>\n",
       "    </tr>\n",
       "    <tr>\n",
       "      <th>4</th>\n",
       "      <td>0.307204</td>\n",
       "      <td>0.083733</td>\n",
       "      <td>0.018682</td>\n",
       "      <td>0.060296</td>\n",
       "      <td>0.079989</td>\n",
       "      <td>0.028442</td>\n",
       "      <td>0.012159</td>\n",
       "      <td>0.041207</td>\n",
       "      <td>0.307204</td>\n",
       "      <td>0.307204</td>\n",
       "      <td>...</td>\n",
       "      <td>0.268115</td>\n",
       "      <td>0.033532</td>\n",
       "      <td>0.041168</td>\n",
       "      <td>0.218352</td>\n",
       "      <td>0.248037</td>\n",
       "      <td>0.221883</td>\n",
       "      <td>0.268115</td>\n",
       "      <td>0.214999</td>\n",
       "      <td>0.268115</td>\n",
       "      <td>airplanes</td>\n",
       "    </tr>\n",
       "  </tbody>\n",
       "</table>\n",
       "<p>5 rows × 8101 columns</p>\n",
       "</div>"
      ],
      "text/plain": [
       "      HOG_0     HOG_1     HOG_2     HOG_3     HOG_4     HOG_5     HOG_6  \\\n",
       "0  0.038366  0.034774  0.031683  0.103240  0.138038  0.176418  0.246472   \n",
       "1  0.241152  0.037368  0.034159  0.025061  0.070951  0.014410  0.003767   \n",
       "2  0.140515  0.000000  0.000000  0.000000  0.000891  0.000000  0.000000   \n",
       "3  0.379993  0.030309  0.008011  0.000308  0.014956  0.006318  0.015724   \n",
       "4  0.307204  0.083733  0.018682  0.060296  0.079989  0.028442  0.012159   \n",
       "\n",
       "      HOG_7     HOG_8     HOG_9  ...  HOG_8091  HOG_8092  HOG_8093  HOG_8094  \\\n",
       "0  0.246472  0.158125  0.025145  ...  0.035912  0.016476  0.035359  0.147580   \n",
       "1  0.001928  0.178829  0.337243  ...  0.118079  0.005067  0.007300  0.002927   \n",
       "2  0.000000  0.140550  0.159198  ...  0.375181  0.183314  0.098506  0.060341   \n",
       "3  0.045974  0.379993  0.379993  ...  0.349345  0.023273  0.001012  0.000892   \n",
       "4  0.041207  0.307204  0.307204  ...  0.268115  0.033532  0.041168  0.218352   \n",
       "\n",
       "   HOG_8095  HOG_8096  HOG_8097  HOG_8098  HOG_8099              Label  \n",
       "0  0.306789  0.306789  0.164016  0.039841  0.038114  BACKGROUND_Google  \n",
       "1  0.005443  0.003690  0.009717  0.003888  0.121595         Motorbikes  \n",
       "2  0.084255  0.042076  0.144795  0.156756  0.375181          airplanes  \n",
       "3  0.031166  0.000000  0.000023  0.008693  0.349345         Motorbikes  \n",
       "4  0.248037  0.221883  0.268115  0.214999  0.268115          airplanes  \n",
       "\n",
       "[5 rows x 8101 columns]"
      ]
     },
     "execution_count": 5,
     "metadata": {},
     "output_type": "execute_result"
    }
   ],
   "source": [
    "train_df.head()"
   ]
  },
  {
   "cell_type": "code",
   "execution_count": 6,
   "id": "759f8efd-7526-45e5-bd26-a8468d04f24c",
   "metadata": {},
   "outputs": [],
   "source": [
    "from sklearn.preprocessing import LabelEncoder\n",
    "\n",
    "label_encoder = LabelEncoder()\n",
    "train_df['Label'] = label_encoder.fit_transform(train_df['Label'])\n",
    "test_df['Label'] = label_encoder.transform(test_df['Label'])"
   ]
  },
  {
   "cell_type": "markdown",
   "id": "07bf8566-ffe3-408d-b788-d9dea57fa09f",
   "metadata": {},
   "source": [
    "# 2. Creating Labelled Unlabelled Data"
   ]
  },
  {
   "cell_type": "code",
   "execution_count": 7,
   "id": "810bb682-3bcc-4ab5-9eb9-918b681fa3f9",
   "metadata": {},
   "outputs": [],
   "source": [
    "from sklearn.model_selection import train_test_split\n",
    "\n",
    "def partition_and_make_unlabeled(df, test_size=0.5, random_state=None):\n",
    "    labeled_df1, labeled_df2 = train_test_split(df, test_size=test_size, stratify=df['Label'], random_state=random_state)\n",
    "    unlabeled_df = labeled_df2.drop('Label', axis=1)\n",
    "    \n",
    "    return labeled_df1, labeled_df2, unlabeled_df"
   ]
  },
  {
   "cell_type": "code",
   "execution_count": 8,
   "id": "ef0bdc2b-022a-4695-a185-f4db2cd5ccd9",
   "metadata": {},
   "outputs": [],
   "source": [
    "labeled_df1, labeled_df2, unlabeled_df = partition_and_make_unlabeled(train_df, test_size=0.80, random_state=42)"
   ]
  },
  {
   "cell_type": "code",
   "execution_count": 9,
   "id": "38ee079b-ea09-4d13-8d8e-81a1506d2ba7",
   "metadata": {
    "scrolled": true
   },
   "outputs": [
    {
     "data": {
      "text/html": [
       "<div>\n",
       "<style scoped>\n",
       "    .dataframe tbody tr th:only-of-type {\n",
       "        vertical-align: middle;\n",
       "    }\n",
       "\n",
       "    .dataframe tbody tr th {\n",
       "        vertical-align: top;\n",
       "    }\n",
       "\n",
       "    .dataframe thead th {\n",
       "        text-align: right;\n",
       "    }\n",
       "</style>\n",
       "<table border=\"1\" class=\"dataframe\">\n",
       "  <thead>\n",
       "    <tr style=\"text-align: right;\">\n",
       "      <th></th>\n",
       "      <th>HOG_0</th>\n",
       "      <th>HOG_1</th>\n",
       "      <th>HOG_2</th>\n",
       "      <th>HOG_3</th>\n",
       "      <th>HOG_4</th>\n",
       "      <th>HOG_5</th>\n",
       "      <th>HOG_6</th>\n",
       "      <th>HOG_7</th>\n",
       "      <th>HOG_8</th>\n",
       "      <th>HOG_9</th>\n",
       "      <th>...</th>\n",
       "      <th>HOG_8090</th>\n",
       "      <th>HOG_8091</th>\n",
       "      <th>HOG_8092</th>\n",
       "      <th>HOG_8093</th>\n",
       "      <th>HOG_8094</th>\n",
       "      <th>HOG_8095</th>\n",
       "      <th>HOG_8096</th>\n",
       "      <th>HOG_8097</th>\n",
       "      <th>HOG_8098</th>\n",
       "      <th>HOG_8099</th>\n",
       "    </tr>\n",
       "  </thead>\n",
       "  <tbody>\n",
       "    <tr>\n",
       "      <th>1485</th>\n",
       "      <td>0.158628</td>\n",
       "      <td>0.000000</td>\n",
       "      <td>0.000000</td>\n",
       "      <td>0.000000</td>\n",
       "      <td>0.000000</td>\n",
       "      <td>0.000000</td>\n",
       "      <td>0.000000</td>\n",
       "      <td>0.000000</td>\n",
       "      <td>0.156872</td>\n",
       "      <td>0.180218</td>\n",
       "      <td>...</td>\n",
       "      <td>0.496588</td>\n",
       "      <td>0.496588</td>\n",
       "      <td>0.026402</td>\n",
       "      <td>0.020954</td>\n",
       "      <td>0.004773</td>\n",
       "      <td>0.010718</td>\n",
       "      <td>0.002488</td>\n",
       "      <td>0.004995</td>\n",
       "      <td>0.006333</td>\n",
       "      <td>0.496588</td>\n",
       "    </tr>\n",
       "    <tr>\n",
       "      <th>2620</th>\n",
       "      <td>0.037935</td>\n",
       "      <td>0.000000</td>\n",
       "      <td>0.000000</td>\n",
       "      <td>0.000000</td>\n",
       "      <td>0.026298</td>\n",
       "      <td>0.000000</td>\n",
       "      <td>0.000000</td>\n",
       "      <td>0.000000</td>\n",
       "      <td>0.037935</td>\n",
       "      <td>0.018102</td>\n",
       "      <td>...</td>\n",
       "      <td>0.000000</td>\n",
       "      <td>0.000000</td>\n",
       "      <td>0.000000</td>\n",
       "      <td>0.000000</td>\n",
       "      <td>0.000000</td>\n",
       "      <td>0.000000</td>\n",
       "      <td>0.000000</td>\n",
       "      <td>0.000000</td>\n",
       "      <td>0.000000</td>\n",
       "      <td>0.000000</td>\n",
       "    </tr>\n",
       "    <tr>\n",
       "      <th>624</th>\n",
       "      <td>0.000000</td>\n",
       "      <td>0.000000</td>\n",
       "      <td>0.000000</td>\n",
       "      <td>0.000000</td>\n",
       "      <td>0.000000</td>\n",
       "      <td>0.000000</td>\n",
       "      <td>0.000000</td>\n",
       "      <td>0.000000</td>\n",
       "      <td>0.000000</td>\n",
       "      <td>0.000000</td>\n",
       "      <td>...</td>\n",
       "      <td>0.000000</td>\n",
       "      <td>0.000000</td>\n",
       "      <td>0.000000</td>\n",
       "      <td>0.000000</td>\n",
       "      <td>0.000000</td>\n",
       "      <td>0.000000</td>\n",
       "      <td>0.000000</td>\n",
       "      <td>0.000000</td>\n",
       "      <td>0.000000</td>\n",
       "      <td>0.000000</td>\n",
       "    </tr>\n",
       "    <tr>\n",
       "      <th>2064</th>\n",
       "      <td>0.029575</td>\n",
       "      <td>0.010799</td>\n",
       "      <td>0.002153</td>\n",
       "      <td>0.012303</td>\n",
       "      <td>0.032226</td>\n",
       "      <td>0.000376</td>\n",
       "      <td>0.001213</td>\n",
       "      <td>0.000133</td>\n",
       "      <td>0.014780</td>\n",
       "      <td>0.100381</td>\n",
       "      <td>...</td>\n",
       "      <td>0.120798</td>\n",
       "      <td>0.026410</td>\n",
       "      <td>0.005916</td>\n",
       "      <td>0.001769</td>\n",
       "      <td>0.000000</td>\n",
       "      <td>0.054480</td>\n",
       "      <td>0.000000</td>\n",
       "      <td>0.003855</td>\n",
       "      <td>0.001288</td>\n",
       "      <td>0.026359</td>\n",
       "    </tr>\n",
       "    <tr>\n",
       "      <th>743</th>\n",
       "      <td>0.143465</td>\n",
       "      <td>0.266407</td>\n",
       "      <td>0.266407</td>\n",
       "      <td>0.266407</td>\n",
       "      <td>0.093926</td>\n",
       "      <td>0.047119</td>\n",
       "      <td>0.015492</td>\n",
       "      <td>0.037342</td>\n",
       "      <td>0.083198</td>\n",
       "      <td>0.142346</td>\n",
       "      <td>...</td>\n",
       "      <td>0.141935</td>\n",
       "      <td>0.168858</td>\n",
       "      <td>0.100689</td>\n",
       "      <td>0.041478</td>\n",
       "      <td>0.055842</td>\n",
       "      <td>0.149941</td>\n",
       "      <td>0.128183</td>\n",
       "      <td>0.138132</td>\n",
       "      <td>0.206807</td>\n",
       "      <td>0.250292</td>\n",
       "    </tr>\n",
       "  </tbody>\n",
       "</table>\n",
       "<p>5 rows × 8100 columns</p>\n",
       "</div>"
      ],
      "text/plain": [
       "         HOG_0     HOG_1     HOG_2     HOG_3     HOG_4     HOG_5     HOG_6  \\\n",
       "1485  0.158628  0.000000  0.000000  0.000000  0.000000  0.000000  0.000000   \n",
       "2620  0.037935  0.000000  0.000000  0.000000  0.026298  0.000000  0.000000   \n",
       "624   0.000000  0.000000  0.000000  0.000000  0.000000  0.000000  0.000000   \n",
       "2064  0.029575  0.010799  0.002153  0.012303  0.032226  0.000376  0.001213   \n",
       "743   0.143465  0.266407  0.266407  0.266407  0.093926  0.047119  0.015492   \n",
       "\n",
       "         HOG_7     HOG_8     HOG_9  ...  HOG_8090  HOG_8091  HOG_8092  \\\n",
       "1485  0.000000  0.156872  0.180218  ...  0.496588  0.496588  0.026402   \n",
       "2620  0.000000  0.037935  0.018102  ...  0.000000  0.000000  0.000000   \n",
       "624   0.000000  0.000000  0.000000  ...  0.000000  0.000000  0.000000   \n",
       "2064  0.000133  0.014780  0.100381  ...  0.120798  0.026410  0.005916   \n",
       "743   0.037342  0.083198  0.142346  ...  0.141935  0.168858  0.100689   \n",
       "\n",
       "      HOG_8093  HOG_8094  HOG_8095  HOG_8096  HOG_8097  HOG_8098  HOG_8099  \n",
       "1485  0.020954  0.004773  0.010718  0.002488  0.004995  0.006333  0.496588  \n",
       "2620  0.000000  0.000000  0.000000  0.000000  0.000000  0.000000  0.000000  \n",
       "624   0.000000  0.000000  0.000000  0.000000  0.000000  0.000000  0.000000  \n",
       "2064  0.001769  0.000000  0.054480  0.000000  0.003855  0.001288  0.026359  \n",
       "743   0.041478  0.055842  0.149941  0.128183  0.138132  0.206807  0.250292  \n",
       "\n",
       "[5 rows x 8100 columns]"
      ]
     },
     "execution_count": 9,
     "metadata": {},
     "output_type": "execute_result"
    }
   ],
   "source": [
    "unlabeled_df.head()"
   ]
  },
  {
   "cell_type": "code",
   "execution_count": 10,
   "id": "c914bc61-8a0a-4dd3-8346-a6f1356aa705",
   "metadata": {},
   "outputs": [
    {
     "data": {
      "text/plain": [
       "(2113, 8101)"
      ]
     },
     "execution_count": 10,
     "metadata": {},
     "output_type": "execute_result"
    }
   ],
   "source": [
    "labeled_df2.shape"
   ]
  },
  {
   "cell_type": "markdown",
   "id": "a853d819-3451-45cb-9bd6-47d0c332b615",
   "metadata": {},
   "source": [
    "# 3. Model Builiding"
   ]
  },
  {
   "cell_type": "markdown",
   "id": "4889cf1e-5221-4e68-b540-2d84dfb3c2bf",
   "metadata": {},
   "source": [
    "#### Training Forest and Trees"
   ]
  },
  {
   "cell_type": "code",
   "execution_count": 11,
   "id": "77baba73-f205-4590-8944-90c6a182e2a3",
   "metadata": {},
   "outputs": [],
   "source": [
    "def train_rf(X, n_estimators=100):\n",
    "    rf = RandomForestClassifier(criterion='gini',\n",
    "                                max_depth=15, \n",
    "                                min_samples_split = 5,\n",
    "                                n_estimators=n_estimators,\n",
    "                                oob_score = True,\n",
    "                                random_state = 0)\n",
    "    rf.fit(X.iloc[:,:-1], X.iloc[:,-1])\n",
    "    return rf"
   ]
  },
  {
   "cell_type": "code",
   "execution_count": 12,
   "id": "314da907-b559-43d2-9623-cd0d76695135",
   "metadata": {},
   "outputs": [],
   "source": [
    "def train_tree(X):\n",
    "    dt = DecisionTreeClassifier(criterion='gini', \n",
    "                                max_depth=15,\n",
    "                                min_samples_split = 5,\n",
    "                                random_state = 0)\n",
    "    dt.fit(X.iloc[:,:-1], X.iloc[:,-1])\n",
    "    return dt"
   ]
  },
  {
   "cell_type": "markdown",
   "id": "eb6a8b71-0f8c-43af-bb77-984f7129ddf8",
   "metadata": {},
   "source": [
    "# Optimization"
   ]
  },
  {
   "cell_type": "code",
   "execution_count": 13,
   "id": "f0bce556-4186-4832-ad1f-62f592cf7260",
   "metadata": {},
   "outputs": [],
   "source": [
    "def compute_p_star(Xu, F, T, alpha=1):\n",
    "    p_stars = []\n",
    "    g_x = F.predict_proba(Xu)\n",
    "    # margin = np.max(g_x, axis = 1)  \n",
    "    margin = g_x\n",
    "    \n",
    "    loss = np.exp(-margin)\n",
    "    # loss = np.maximum(0, 1 - margin)\n",
    "    \n",
    "    score = np.exp((alpha * loss + T) / T)\n",
    "    p_star = score / np.sum(score, axis=1, keepdims=True)\n",
    "    return p_star"
   ]
  },
  {
   "cell_type": "code",
   "execution_count": 14,
   "id": "cc1479c0-fb00-4ffa-91da-e1f6201f0479",
   "metadata": {},
   "outputs": [],
   "source": [
    "def draw_random_label(p_star, Xu):\n",
    "    num_samples = len(Xu)\n",
    "    K = 5\n",
    "    labels = []\n",
    "    for i in range(num_samples):\n",
    "        label= np.random.choice(list(range(1, K+1)), size=1, p=p_star[i])\n",
    "        labels.append(label.tolist()[0])\n",
    "    return labels"
   ]
  },
  {
   "cell_type": "markdown",
   "id": "7fb6e6ab-691e-4f4a-a157-98808601ff51",
   "metadata": {},
   "source": [
    "### Oob error"
   ]
  },
  {
   "cell_type": "code",
   "execution_count": 15,
   "id": "0beedb34-049b-4460-9bfc-5f2a5a5cc2b6",
   "metadata": {},
   "outputs": [],
   "source": [
    "def oobe(F):\n",
    "    oob_error = 1 - F.oob_score_\n",
    "    print(\"oob_error: \", oob_error)\n",
    "    return oob_error"
   ]
  },
  {
   "cell_type": "markdown",
   "id": "1a7027c4-9482-4de1-874d-d1f43a4ace56",
   "metadata": {},
   "source": [
    "### Temperature function "
   ]
  },
  {
   "cell_type": "code",
   "execution_count": 16,
   "id": "84be0b54-e744-4ca0-a262-fe315b082bea",
   "metadata": {},
   "outputs": [],
   "source": [
    "def temperature(epoche_value, cooling_parameter, start_value):\n",
    "    return start_value / pow(cooling_parameter, epoche_value)"
   ]
  },
  {
   "cell_type": "markdown",
   "id": "94ed8a1d-3818-4819-bbf6-c23cffd75698",
   "metadata": {},
   "source": [
    "### Stopping Criteria"
   ]
  },
  {
   "cell_type": "code",
   "execution_count": 17,
   "id": "38f3b7a5-1fa0-426f-8580-ab193fc044bd",
   "metadata": {},
   "outputs": [],
   "source": [
    "def stopping_condition(emF, e0F, m, max_epochs, T):\n",
    "    return emF > e0F or m >= max_epochs or T<0.1"
   ]
  },
  {
   "cell_type": "markdown",
   "id": "c3cdf337-930a-495d-87f2-85a74585c480",
   "metadata": {},
   "source": [
    "### Forest Enhancement"
   ]
  },
  {
   "cell_type": "code",
   "execution_count": 18,
   "id": "4c1aabda-8ee2-41f2-b6ff-568750aefee0",
   "metadata": {},
   "outputs": [],
   "source": [
    "def semi_supervised_random_forests(Xl, Xu, num_trees, max_epochs, alpha=1, T=1, cooling_parameter=1, start_value=1):\n",
    "    F = train_rf(Xl, num_trees)\n",
    "    epoch_value = 0\n",
    "    e0F = oobe(F)  \n",
    "    emF = 0\n",
    "    while True:\n",
    "        epoch_value += 1\n",
    "        T = temperature(epoch_value, cooling_parameter, start_value)\n",
    "        p_star = compute_p_star(Xu, F, T=T)\n",
    "        for i in range(num_trees):\n",
    "            y_hat_u = draw_random_label(p_star, Xu)\n",
    "            Xu_ = Xu.copy()\n",
    "            Xu_['Label'] = y_hat_u\n",
    "            Xn = pd.concat([Xl, Xu_], ignore_index=True)\n",
    "            F.estimators_[i] = train_tree(Xn)\n",
    "        emF = oobe(F)\n",
    "        if stopping_condition(emF, e0F, epoch_value, max_epochs, T): \n",
    "            break\n",
    "        e0F = emF\n",
    "    return F"
   ]
  },
  {
   "cell_type": "markdown",
   "id": "ff75f96f-3c4e-4f02-b246-f7f1d613fcd6",
   "metadata": {},
   "source": [
    "# 4. Model Training"
   ]
  },
  {
   "cell_type": "code",
   "execution_count": 19,
   "id": "f2a32269-313a-4f3a-9dc4-41b4a695c756",
   "metadata": {},
   "outputs": [
    {
     "name": "stdout",
     "output_type": "stream",
     "text": [
      "oob_error:  0.10795454545454541\n",
      "oob_error:  0.10795454545454541\n"
     ]
    },
    {
     "ename": "ValueError",
     "evalue": "operands could not be broadcast together with shapes (2113,5) (2113,6) (2113,5) ",
     "output_type": "error",
     "traceback": [
      "\u001b[1;31m---------------------------------------------------------------------------\u001b[0m",
      "\u001b[1;31mValueError\u001b[0m                                Traceback (most recent call last)",
      "Cell \u001b[1;32mIn[19], line 12\u001b[0m\n\u001b[0;32m      8\u001b[0m cooling_parameter \u001b[38;5;241m=\u001b[39m \u001b[38;5;241m1.5\u001b[39m\n\u001b[0;32m      9\u001b[0m start_value \u001b[38;5;241m=\u001b[39m \u001b[38;5;241m1\u001b[39m\n\u001b[1;32m---> 12\u001b[0m semi_supervised_forest \u001b[38;5;241m=\u001b[39m \u001b[43msemi_supervised_random_forests\u001b[49m\u001b[43m(\u001b[49m\u001b[43mXl\u001b[49m\u001b[43m,\u001b[49m\u001b[43m \u001b[49m\u001b[43mXu\u001b[49m\u001b[43m,\u001b[49m\u001b[43m \u001b[49m\u001b[43mnum_trees\u001b[49m\u001b[43m,\u001b[49m\u001b[43m \u001b[49m\u001b[43mmax_epochs\u001b[49m\u001b[43m,\u001b[49m\u001b[43m \u001b[49m\u001b[43malpha\u001b[49m\u001b[43m,\u001b[49m\u001b[43m \u001b[49m\u001b[43mT\u001b[49m\u001b[43m,\u001b[49m\u001b[43m \u001b[49m\u001b[43mcooling_parameter\u001b[49m\u001b[43m,\u001b[49m\u001b[43m \u001b[49m\u001b[43mstart_value\u001b[49m\u001b[43m)\u001b[49m\n",
      "Cell \u001b[1;32mIn[18], line 9\u001b[0m, in \u001b[0;36msemi_supervised_random_forests\u001b[1;34m(Xl, Xu, num_trees, max_epochs, alpha, T, cooling_parameter, start_value)\u001b[0m\n\u001b[0;32m      7\u001b[0m epoch_value \u001b[38;5;241m+\u001b[39m\u001b[38;5;241m=\u001b[39m \u001b[38;5;241m1\u001b[39m\n\u001b[0;32m      8\u001b[0m T \u001b[38;5;241m=\u001b[39m temperature(epoch_value, cooling_parameter, start_value)\n\u001b[1;32m----> 9\u001b[0m p_star \u001b[38;5;241m=\u001b[39m \u001b[43mcompute_p_star\u001b[49m\u001b[43m(\u001b[49m\u001b[43mXu\u001b[49m\u001b[43m,\u001b[49m\u001b[43m \u001b[49m\u001b[43mF\u001b[49m\u001b[43m,\u001b[49m\u001b[43m \u001b[49m\u001b[43mT\u001b[49m\u001b[38;5;241;43m=\u001b[39;49m\u001b[43mT\u001b[49m\u001b[43m)\u001b[49m\n\u001b[0;32m     10\u001b[0m \u001b[38;5;28;01mfor\u001b[39;00m i \u001b[38;5;129;01min\u001b[39;00m \u001b[38;5;28mrange\u001b[39m(num_trees):\n\u001b[0;32m     11\u001b[0m     y_hat_u \u001b[38;5;241m=\u001b[39m draw_random_label(p_star, Xu)\n",
      "Cell \u001b[1;32mIn[13], line 3\u001b[0m, in \u001b[0;36mcompute_p_star\u001b[1;34m(Xu, F, T, alpha)\u001b[0m\n\u001b[0;32m      1\u001b[0m \u001b[38;5;28;01mdef\u001b[39;00m \u001b[38;5;21mcompute_p_star\u001b[39m(Xu, F, T, alpha\u001b[38;5;241m=\u001b[39m\u001b[38;5;241m1\u001b[39m):\n\u001b[0;32m      2\u001b[0m     p_stars \u001b[38;5;241m=\u001b[39m []\n\u001b[1;32m----> 3\u001b[0m     g_x \u001b[38;5;241m=\u001b[39m \u001b[43mF\u001b[49m\u001b[38;5;241;43m.\u001b[39;49m\u001b[43mpredict_proba\u001b[49m\u001b[43m(\u001b[49m\u001b[43mXu\u001b[49m\u001b[38;5;241;43m.\u001b[39;49m\u001b[43mvalues\u001b[49m\u001b[43m)\u001b[49m\n\u001b[0;32m      4\u001b[0m     \u001b[38;5;66;03m# margin = np.max(g_x, axis = 1)  \u001b[39;00m\n\u001b[0;32m      5\u001b[0m     margin \u001b[38;5;241m=\u001b[39m g_x\n",
      "File \u001b[1;32m~\\OneDrive\\Desktop\\Semester - 4\\Machine Learning\\Project\\ssrf\\Lib\\site-packages\\sklearn\\ensemble\\_forest.py:958\u001b[0m, in \u001b[0;36mForestClassifier.predict_proba\u001b[1;34m(self, X)\u001b[0m\n\u001b[0;32m    953\u001b[0m all_proba \u001b[38;5;241m=\u001b[39m [\n\u001b[0;32m    954\u001b[0m     np\u001b[38;5;241m.\u001b[39mzeros((X\u001b[38;5;241m.\u001b[39mshape[\u001b[38;5;241m0\u001b[39m], j), dtype\u001b[38;5;241m=\u001b[39mnp\u001b[38;5;241m.\u001b[39mfloat64)\n\u001b[0;32m    955\u001b[0m     \u001b[38;5;28;01mfor\u001b[39;00m j \u001b[38;5;129;01min\u001b[39;00m np\u001b[38;5;241m.\u001b[39matleast_1d(\u001b[38;5;28mself\u001b[39m\u001b[38;5;241m.\u001b[39mn_classes_)\n\u001b[0;32m    956\u001b[0m ]\n\u001b[0;32m    957\u001b[0m lock \u001b[38;5;241m=\u001b[39m threading\u001b[38;5;241m.\u001b[39mLock()\n\u001b[1;32m--> 958\u001b[0m \u001b[43mParallel\u001b[49m\u001b[43m(\u001b[49m\u001b[43mn_jobs\u001b[49m\u001b[38;5;241;43m=\u001b[39;49m\u001b[43mn_jobs\u001b[49m\u001b[43m,\u001b[49m\u001b[43m \u001b[49m\u001b[43mverbose\u001b[49m\u001b[38;5;241;43m=\u001b[39;49m\u001b[38;5;28;43mself\u001b[39;49m\u001b[38;5;241;43m.\u001b[39;49m\u001b[43mverbose\u001b[49m\u001b[43m,\u001b[49m\u001b[43m \u001b[49m\u001b[43mrequire\u001b[49m\u001b[38;5;241;43m=\u001b[39;49m\u001b[38;5;124;43m\"\u001b[39;49m\u001b[38;5;124;43msharedmem\u001b[39;49m\u001b[38;5;124;43m\"\u001b[39;49m\u001b[43m)\u001b[49m\u001b[43m(\u001b[49m\n\u001b[0;32m    959\u001b[0m \u001b[43m    \u001b[49m\u001b[43mdelayed\u001b[49m\u001b[43m(\u001b[49m\u001b[43m_accumulate_prediction\u001b[49m\u001b[43m)\u001b[49m\u001b[43m(\u001b[49m\u001b[43me\u001b[49m\u001b[38;5;241;43m.\u001b[39;49m\u001b[43mpredict_proba\u001b[49m\u001b[43m,\u001b[49m\u001b[43m \u001b[49m\u001b[43mX\u001b[49m\u001b[43m,\u001b[49m\u001b[43m \u001b[49m\u001b[43mall_proba\u001b[49m\u001b[43m,\u001b[49m\u001b[43m \u001b[49m\u001b[43mlock\u001b[49m\u001b[43m)\u001b[49m\n\u001b[0;32m    960\u001b[0m \u001b[43m    \u001b[49m\u001b[38;5;28;43;01mfor\u001b[39;49;00m\u001b[43m \u001b[49m\u001b[43me\u001b[49m\u001b[43m \u001b[49m\u001b[38;5;129;43;01min\u001b[39;49;00m\u001b[43m \u001b[49m\u001b[38;5;28;43mself\u001b[39;49m\u001b[38;5;241;43m.\u001b[39;49m\u001b[43mestimators_\u001b[49m\n\u001b[0;32m    961\u001b[0m \u001b[43m\u001b[49m\u001b[43m)\u001b[49m\n\u001b[0;32m    963\u001b[0m \u001b[38;5;28;01mfor\u001b[39;00m proba \u001b[38;5;129;01min\u001b[39;00m all_proba:\n\u001b[0;32m    964\u001b[0m     proba \u001b[38;5;241m/\u001b[39m\u001b[38;5;241m=\u001b[39m \u001b[38;5;28mlen\u001b[39m(\u001b[38;5;28mself\u001b[39m\u001b[38;5;241m.\u001b[39mestimators_)\n",
      "File \u001b[1;32m~\\OneDrive\\Desktop\\Semester - 4\\Machine Learning\\Project\\ssrf\\Lib\\site-packages\\sklearn\\utils\\parallel.py:67\u001b[0m, in \u001b[0;36mParallel.__call__\u001b[1;34m(self, iterable)\u001b[0m\n\u001b[0;32m     62\u001b[0m config \u001b[38;5;241m=\u001b[39m get_config()\n\u001b[0;32m     63\u001b[0m iterable_with_config \u001b[38;5;241m=\u001b[39m (\n\u001b[0;32m     64\u001b[0m     (_with_config(delayed_func, config), args, kwargs)\n\u001b[0;32m     65\u001b[0m     \u001b[38;5;28;01mfor\u001b[39;00m delayed_func, args, kwargs \u001b[38;5;129;01min\u001b[39;00m iterable\n\u001b[0;32m     66\u001b[0m )\n\u001b[1;32m---> 67\u001b[0m \u001b[38;5;28;01mreturn\u001b[39;00m \u001b[38;5;28;43msuper\u001b[39;49m\u001b[43m(\u001b[49m\u001b[43m)\u001b[49m\u001b[38;5;241;43m.\u001b[39;49m\u001b[38;5;21;43m__call__\u001b[39;49m\u001b[43m(\u001b[49m\u001b[43miterable_with_config\u001b[49m\u001b[43m)\u001b[49m\n",
      "File \u001b[1;32m~\\OneDrive\\Desktop\\Semester - 4\\Machine Learning\\Project\\ssrf\\Lib\\site-packages\\joblib\\parallel.py:1863\u001b[0m, in \u001b[0;36mParallel.__call__\u001b[1;34m(self, iterable)\u001b[0m\n\u001b[0;32m   1861\u001b[0m     output \u001b[38;5;241m=\u001b[39m \u001b[38;5;28mself\u001b[39m\u001b[38;5;241m.\u001b[39m_get_sequential_output(iterable)\n\u001b[0;32m   1862\u001b[0m     \u001b[38;5;28mnext\u001b[39m(output)\n\u001b[1;32m-> 1863\u001b[0m     \u001b[38;5;28;01mreturn\u001b[39;00m output \u001b[38;5;28;01mif\u001b[39;00m \u001b[38;5;28mself\u001b[39m\u001b[38;5;241m.\u001b[39mreturn_generator \u001b[38;5;28;01melse\u001b[39;00m \u001b[38;5;28;43mlist\u001b[39;49m\u001b[43m(\u001b[49m\u001b[43moutput\u001b[49m\u001b[43m)\u001b[49m\n\u001b[0;32m   1865\u001b[0m \u001b[38;5;66;03m# Let's create an ID that uniquely identifies the current call. If the\u001b[39;00m\n\u001b[0;32m   1866\u001b[0m \u001b[38;5;66;03m# call is interrupted early and that the same instance is immediately\u001b[39;00m\n\u001b[0;32m   1867\u001b[0m \u001b[38;5;66;03m# re-used, this id will be used to prevent workers that were\u001b[39;00m\n\u001b[0;32m   1868\u001b[0m \u001b[38;5;66;03m# concurrently finalizing a task from the previous call to run the\u001b[39;00m\n\u001b[0;32m   1869\u001b[0m \u001b[38;5;66;03m# callback.\u001b[39;00m\n\u001b[0;32m   1870\u001b[0m \u001b[38;5;28;01mwith\u001b[39;00m \u001b[38;5;28mself\u001b[39m\u001b[38;5;241m.\u001b[39m_lock:\n",
      "File \u001b[1;32m~\\OneDrive\\Desktop\\Semester - 4\\Machine Learning\\Project\\ssrf\\Lib\\site-packages\\joblib\\parallel.py:1792\u001b[0m, in \u001b[0;36mParallel._get_sequential_output\u001b[1;34m(self, iterable)\u001b[0m\n\u001b[0;32m   1790\u001b[0m \u001b[38;5;28mself\u001b[39m\u001b[38;5;241m.\u001b[39mn_dispatched_batches \u001b[38;5;241m+\u001b[39m\u001b[38;5;241m=\u001b[39m \u001b[38;5;241m1\u001b[39m\n\u001b[0;32m   1791\u001b[0m \u001b[38;5;28mself\u001b[39m\u001b[38;5;241m.\u001b[39mn_dispatched_tasks \u001b[38;5;241m+\u001b[39m\u001b[38;5;241m=\u001b[39m \u001b[38;5;241m1\u001b[39m\n\u001b[1;32m-> 1792\u001b[0m res \u001b[38;5;241m=\u001b[39m \u001b[43mfunc\u001b[49m\u001b[43m(\u001b[49m\u001b[38;5;241;43m*\u001b[39;49m\u001b[43margs\u001b[49m\u001b[43m,\u001b[49m\u001b[43m \u001b[49m\u001b[38;5;241;43m*\u001b[39;49m\u001b[38;5;241;43m*\u001b[39;49m\u001b[43mkwargs\u001b[49m\u001b[43m)\u001b[49m\n\u001b[0;32m   1793\u001b[0m \u001b[38;5;28mself\u001b[39m\u001b[38;5;241m.\u001b[39mn_completed_tasks \u001b[38;5;241m+\u001b[39m\u001b[38;5;241m=\u001b[39m \u001b[38;5;241m1\u001b[39m\n\u001b[0;32m   1794\u001b[0m \u001b[38;5;28mself\u001b[39m\u001b[38;5;241m.\u001b[39mprint_progress()\n",
      "File \u001b[1;32m~\\OneDrive\\Desktop\\Semester - 4\\Machine Learning\\Project\\ssrf\\Lib\\site-packages\\sklearn\\utils\\parallel.py:129\u001b[0m, in \u001b[0;36m_FuncWrapper.__call__\u001b[1;34m(self, *args, **kwargs)\u001b[0m\n\u001b[0;32m    127\u001b[0m     config \u001b[38;5;241m=\u001b[39m {}\n\u001b[0;32m    128\u001b[0m \u001b[38;5;28;01mwith\u001b[39;00m config_context(\u001b[38;5;241m*\u001b[39m\u001b[38;5;241m*\u001b[39mconfig):\n\u001b[1;32m--> 129\u001b[0m     \u001b[38;5;28;01mreturn\u001b[39;00m \u001b[38;5;28;43mself\u001b[39;49m\u001b[38;5;241;43m.\u001b[39;49m\u001b[43mfunction\u001b[49m\u001b[43m(\u001b[49m\u001b[38;5;241;43m*\u001b[39;49m\u001b[43margs\u001b[49m\u001b[43m,\u001b[49m\u001b[43m \u001b[49m\u001b[38;5;241;43m*\u001b[39;49m\u001b[38;5;241;43m*\u001b[39;49m\u001b[43mkwargs\u001b[49m\u001b[43m)\u001b[49m\n",
      "File \u001b[1;32m~\\OneDrive\\Desktop\\Semester - 4\\Machine Learning\\Project\\ssrf\\Lib\\site-packages\\sklearn\\ensemble\\_forest.py:734\u001b[0m, in \u001b[0;36m_accumulate_prediction\u001b[1;34m(predict, X, out, lock)\u001b[0m\n\u001b[0;32m    732\u001b[0m \u001b[38;5;28;01mwith\u001b[39;00m lock:\n\u001b[0;32m    733\u001b[0m     \u001b[38;5;28;01mif\u001b[39;00m \u001b[38;5;28mlen\u001b[39m(out) \u001b[38;5;241m==\u001b[39m \u001b[38;5;241m1\u001b[39m:\n\u001b[1;32m--> 734\u001b[0m         \u001b[43mout\u001b[49m\u001b[43m[\u001b[49m\u001b[38;5;241;43m0\u001b[39;49m\u001b[43m]\u001b[49m\u001b[43m \u001b[49m\u001b[38;5;241;43m+\u001b[39;49m\u001b[38;5;241;43m=\u001b[39;49m\u001b[43m \u001b[49m\u001b[43mprediction\u001b[49m\n\u001b[0;32m    735\u001b[0m     \u001b[38;5;28;01melse\u001b[39;00m:\n\u001b[0;32m    736\u001b[0m         \u001b[38;5;28;01mfor\u001b[39;00m i \u001b[38;5;129;01min\u001b[39;00m \u001b[38;5;28mrange\u001b[39m(\u001b[38;5;28mlen\u001b[39m(out)):\n",
      "\u001b[1;31mValueError\u001b[0m: operands could not be broadcast together with shapes (2113,5) (2113,6) (2113,5) "
     ]
    }
   ],
   "source": [
    "Xl = labeled_df1.copy()\n",
    "Xu = unlabeled_df.copy()\n",
    "\n",
    "num_trees = 50\n",
    "max_epochs = 5\n",
    "alpha = 0.05\n",
    "T = 5\n",
    "cooling_parameter = 1.5\n",
    "start_value = 1\n",
    "\n",
    "\n",
    "semi_supervised_forest = semi_supervised_random_forests(Xl, Xu, num_trees, max_epochs, alpha, T, cooling_parameter, start_value)"
   ]
  },
  {
   "cell_type": "code",
   "execution_count": 28,
   "id": "ca269e3e-b478-4813-a742-93aeaeaf2a48",
   "metadata": {},
   "outputs": [
    {
     "ename": "NameError",
     "evalue": "name 'F' is not defined",
     "output_type": "error",
     "traceback": [
      "\u001b[1;31m---------------------------------------------------------------------------\u001b[0m",
      "\u001b[1;31mNameError\u001b[0m                                 Traceback (most recent call last)",
      "Cell \u001b[1;32mIn[28], line 1\u001b[0m\n\u001b[1;32m----> 1\u001b[0m \u001b[43mF\u001b[49m\n",
      "\u001b[1;31mNameError\u001b[0m: name 'F' is not defined"
     ]
    }
   ],
   "source": []
  },
  {
   "cell_type": "markdown",
   "id": "8426d200-4a0c-4ad4-8067-b2732508963c",
   "metadata": {},
   "source": [
    "# 5. Model Evaluation "
   ]
  },
  {
   "cell_type": "code",
   "execution_count": null,
   "id": "f7bfa49b-6379-429c-9eef-a50cabca0b1f",
   "metadata": {},
   "outputs": [],
   "source": [
    "y_pred = semi_supervised_forest.predict(test_df.iloc[:,:-1].values)\n",
    "y_true = test_df.values[:,-1]\n",
    "y_true = y_true.astype(int)\n",
    "y_pred = y_pred.astype(int)"
   ]
  },
  {
   "cell_type": "code",
   "execution_count": null,
   "id": "9d4e21df-462b-4e14-9fbd-e84f3ecba3ed",
   "metadata": {},
   "outputs": [],
   "source": [
    "labels_num = label_encoder.inverse_transform(test_df['Label'])\n",
    "labels = np.unique(labels_num)\n",
    "labels = list(labels)"
   ]
  },
  {
   "cell_type": "code",
   "execution_count": null,
   "id": "f944e73e-6a65-413a-9b45-7e9713cc6b97",
   "metadata": {},
   "outputs": [],
   "source": [
    "def plot_confusion_matrix(y_true, y_pred, label_text, label_num):\n",
    "    cm = confusion_matrix(y_true, y_pred, labels=label_num)\n",
    "    plt.figure(figsize=(10, 8))\n",
    "    sns.heatmap(cm, annot=True, fmt=\"d\", cmap=\"Blues\", xticklabels=label_text, yticklabels=label_text)\n",
    "    plt.xlabel('Predicted labels')\n",
    "    plt.ylabel('True labels')\n",
    "    plt.title('Confusion Matrix for Semi-supervised Random Forest')\n",
    "    plt.show()\n",
    "\n",
    "plot_confusion_matrix(y_true, y_pred, labels, np.unique(train_df.values[:,-1]))"
   ]
  },
  {
   "cell_type": "code",
   "execution_count": null,
   "id": "ee59e945-ff08-40e1-a413-458f62d1475f",
   "metadata": {},
   "outputs": [],
   "source": [
    "def metrics(y_true, y_pred):\n",
    "\n",
    "    confusion_matrix = np.zeros((y_true.max() + 1, y_true.max() + 1))\n",
    "    for i in range(len(y_true)):\n",
    "        confusion_matrix[y_true[i], y_pred[i]] += 1\n",
    "\n",
    "    # precision and recall\n",
    "    precision = []\n",
    "    recall = []\n",
    "    for i in range(y_true.max() + 1):\n",
    "        tp = confusion_matrix[i, i]\n",
    "        fp = np.sum(confusion_matrix[:, i]) - tp\n",
    "        fn = np.sum(confusion_matrix[i, :]) - tp\n",
    "        precision.append(tp / (tp + fp))\n",
    "        recall.append(tp / (tp + fn))\n",
    "    precisions = np.mean(precision)\n",
    "    recalls = np.mean(recall)\n",
    "\n",
    "    # Calculating accuracy\n",
    "    accuracy = np.trace(confusion_matrix) / np.sum(confusion_matrix)\n",
    "\n",
    "    # Calculating F1 score\n",
    "    f1_score = 2 * (precisions * recalls) / (precisions + recalls) if (precisions + recalls) != 0 else 0\n",
    "\n",
    "    return precisions, recalls, precision, recall, accuracy, f1_score\n",
    "\n",
    "precision , recall, precision_list, recall_list, accuracy, f1_score = metrics(y_true, y_pred)"
   ]
  },
  {
   "cell_type": "code",
   "execution_count": null,
   "id": "3808d0c7-8f4c-437c-9f86-5e81f3bc86b6",
   "metadata": {},
   "outputs": [],
   "source": [
    "test_size = len(test_df)\n",
    "data = {\n",
    "    'Dataset': ['Caltech-101'],\n",
    "    'Test Size': [test_size]\n",
    "}\n",
    "\n",
    "df = pd.DataFrame(data)"
   ]
  },
  {
   "cell_type": "code",
   "execution_count": null,
   "id": "2a78371f-0086-4f17-b10c-9e646c5a638d",
   "metadata": {},
   "outputs": [],
   "source": [
    "df['Precision'] = precision\n",
    "df['Recall'] = recall\n",
    "df['Accuracy'] = accuracy\n",
    "df['F1 Score'] = f1_score\n",
    "df"
   ]
  },
  {
   "cell_type": "code",
   "execution_count": null,
   "id": "d0feed39-eb3e-461e-a6b3-66b6cd1434d8",
   "metadata": {},
   "outputs": [],
   "source": [
    "df2 = pd.DataFrame()\n",
    "df2[\"Category\"] = labels\n",
    "df2[\"Precision\"] = precision_list\n",
    "df2[\"Recall\"] = recall_list\n",
    "df2"
   ]
  }
 ],
 "metadata": {
  "kernelspec": {
   "display_name": "ssrf",
   "language": "python",
   "name": "ssrf"
  },
  "language_info": {
   "codemirror_mode": {
    "name": "ipython",
    "version": 3
   },
   "file_extension": ".py",
   "mimetype": "text/x-python",
   "name": "python",
   "nbconvert_exporter": "python",
   "pygments_lexer": "ipython3",
   "version": "3.11.5"
  }
 },
 "nbformat": 4,
 "nbformat_minor": 5
}
